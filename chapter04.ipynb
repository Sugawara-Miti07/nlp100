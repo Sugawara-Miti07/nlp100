{
 "cells": [
  {
   "cell_type": "code",
   "execution_count": 1,
   "id": "96b8120b",
   "metadata": {},
   "outputs": [],
   "source": [
    "!mecab -o ./neko.txt.mecab ./neko.txt"
   ]
  },
  {
   "cell_type": "markdown",
   "id": "7a9e7d7f",
   "metadata": {},
   "source": [
    "# 30.形態素解析結果の読み込み"
   ]
  },
  {
   "cell_type": "code",
   "execution_count": 1,
   "id": "cfee794c",
   "metadata": {},
   "outputs": [
    {
     "name": "stdout",
     "output_type": "stream",
     "text": [
      "{'表層格': 'しかし', '基本形': 'しかし', '品詞': '接続詞', '品詞細分類1': '*'}\n",
      "{'表層格': 'その', '基本形': 'その', '品詞': '連体詞', '品詞細分類1': '*'}\n",
      "{'表層格': '当時', '基本形': '当時', '品詞': '名詞', '品詞細分類1': '副詞可能'}\n",
      "{'表層格': 'は', '基本形': 'は', '品詞': '助詞', '品詞細分類1': '係助詞'}\n",
      "{'表層格': '何', '基本形': '何', '品詞': '名詞', '品詞細分類1': '代名詞'}\n",
      "{'表層格': 'という', '基本形': 'という', '品詞': '助詞', '品詞細分類1': '格助詞'}\n",
      "{'表層格': '考', '基本形': '考', '品詞': '名詞', '品詞細分類1': '一般'}\n",
      "{'表層格': 'も', '基本形': 'も', '品詞': '助詞', '品詞細分類1': '係助詞'}\n",
      "{'表層格': 'なかっ', '基本形': 'ない', '品詞': '形容詞', '品詞細分類1': '自立'}\n",
      "{'表層格': 'た', '基本形': 'た', '品詞': '助動詞', '品詞細分類1': '*'}\n",
      "{'表層格': 'から', '基本形': 'から', '品詞': '助詞', '品詞細分類1': '接続助詞'}\n",
      "{'表層格': '別段', '基本形': '別段', '品詞': '副詞', '品詞細分類1': '助詞類接続'}\n",
      "{'表層格': '恐し', '基本形': '恐い', '品詞': '形容詞', '品詞細分類1': '自立'}\n",
      "{'表層格': 'いとも', '基本形': 'いとも', '品詞': '副詞', '品詞細分類1': '一般'}\n",
      "{'表層格': '思わ', '基本形': '思う', '品詞': '動詞', '品詞細分類1': '自立'}\n",
      "{'表層格': 'なかっ', '基本形': 'ない', '品詞': '助動詞', '品詞細分類1': '*'}\n",
      "{'表層格': 'た', '基本形': 'た', '品詞': '助動詞', '品詞細分類1': '*'}\n",
      "{'表層格': '。', '基本形': '。', '品詞': '記号', '品詞細分類1': '句点'}\n"
     ]
    }
   ],
   "source": [
    "res = []\n",
    "keitaisos = []\n",
    "\n",
    "with open('neko.txt.mecab') as text:\n",
    "    for line in text:\n",
    "        line = line.split('\\t')\n",
    "        if line[0] != 'EOS\\n':     \n",
    "            if line[0] == '\\n'  or line[0] == '' or line[0] == '\\u3000':\n",
    "                continue\n",
    "            else:\n",
    "\n",
    "                split = line[1].split(',')\n",
    "                keitaiso = {'表層格':line[0],'基本形':split[6],'品詞':split[0],'品詞細分類1':split[1]}\n",
    "                keitaisos.append(keitaiso)\n",
    "        else:\n",
    "            res.append(keitaisos)\n",
    "            keitaisos =[]\n",
    "\n",
    "for i in res[10]:\n",
    "    print(i)\n",
    "            "
   ]
  },
  {
   "cell_type": "markdown",
   "id": "9ba57c23",
   "metadata": {},
   "source": [
    "# 31.動詞"
   ]
  },
  {
   "cell_type": "code",
   "execution_count": 2,
   "id": "6b9f9589",
   "metadata": {},
   "outputs": [
    {
     "data": {
      "text/plain": [
       "['きかかっ', '答え', 'ぶら', '届い', '発する']"
      ]
     },
     "execution_count": 2,
     "metadata": {},
     "output_type": "execute_result"
    }
   ],
   "source": [
    "verb_surface = set()\n",
    "for sentence in res:\n",
    "    for word in sentence:\n",
    "        if word['品詞'] == '動詞':\n",
    "            verb_surface.add(word['表層格'])\n",
    "            \n",
    "\n",
    "list(verb_surface)[:5]"
   ]
  },
  {
   "cell_type": "markdown",
   "id": "9ea0a51c",
   "metadata": {},
   "source": [
    "# 32.動詞の基本形"
   ]
  },
  {
   "cell_type": "code",
   "execution_count": 3,
   "id": "c7754e17",
   "metadata": {},
   "outputs": [
    {
     "data": {
      "text/plain": [
       "['狂わせる', 'ぬる', '発する', '仰ぐ', '案ずる']"
      ]
     },
     "execution_count": 3,
     "metadata": {},
     "output_type": "execute_result"
    }
   ],
   "source": [
    "verb_base = set()\n",
    "for sentence in res:\n",
    "    for word in sentence:\n",
    "        if word['品詞'] == '動詞':\n",
    "            verb_base.add(word['基本形'])\n",
    "            \n",
    "list(verb_base)[:5]"
   ]
  },
  {
   "cell_type": "markdown",
   "id": "233a2e8e",
   "metadata": {},
   "source": [
    "# 33.「AのB」"
   ]
  },
  {
   "cell_type": "code",
   "execution_count": 4,
   "id": "9fbe2459",
   "metadata": {},
   "outputs": [
    {
     "data": {
      "text/plain": [
       "['彼の掌', '掌の上', '書生の顔', 'はずの顔', '顔の真中']"
      ]
     },
     "execution_count": 4,
     "metadata": {},
     "output_type": "execute_result"
    }
   ],
   "source": [
    "noun = []\n",
    "for sentence in res:\n",
    "    for i in range(1, len(sentence)-1):\n",
    "        if sentence[i - 1]['品詞'] == '名詞' and sentence[i]['表層格'] == 'の' and sentence[i + 1]['品詞'] == '名詞':\n",
    "            noun.append(sentence[i - 1]['表層格'] + sentence[i]['表層格'] + sentence[i + 1]['表層格'])\n",
    "\n",
    "list(noun)[:5]"
   ]
  },
  {
   "cell_type": "markdown",
   "id": "f9a4d984",
   "metadata": {},
   "source": [
    "# 34.名詞の連接"
   ]
  },
  {
   "cell_type": "code",
   "execution_count": 18,
   "id": "4228f266",
   "metadata": {},
   "outputs": [
    {
     "data": {
      "text/plain": [
       "['人間中', '一番獰悪', '時妙', '一毛', 'その後猫']"
      ]
     },
     "execution_count": 18,
     "metadata": {},
     "output_type": "execute_result"
    }
   ],
   "source": [
    "count = 0\n",
    "noun = []\n",
    "nouns = ''\n",
    "for sentence in res:\n",
    "    for word in sentence:\n",
    "        if word['品詞'] == '名詞':\n",
    "            nouns = ''.join([nouns,word['表層格']])\n",
    "            count += 1\n",
    "        else:\n",
    "            if count >= 2:\n",
    "                noun.append(nouns)\n",
    "                nouns = ''\n",
    "                count = 0\n",
    "            else:\n",
    "                nouns = ''\n",
    "                count = 0\n",
    "    nouns = ''\n",
    "    count = 0\n",
    "\n",
    "noun[:5]"
   ]
  },
  {
   "cell_type": "markdown",
   "id": "86ee7be8",
   "metadata": {},
   "source": [
    "# 35.単語の出現頻度"
   ]
  },
  {
   "cell_type": "code",
   "execution_count": 6,
   "id": "2b7eff22",
   "metadata": {},
   "outputs": [
    {
     "data": {
      "text/plain": [
       "[('の', 9194),\n",
       " ('。', 7486),\n",
       " ('て', 6868),\n",
       " ('、', 6772),\n",
       " ('は', 6420),\n",
       " ('に', 6243),\n",
       " ('を', 6071),\n",
       " ('と', 5508),\n",
       " ('が', 5337),\n",
       " ('た', 3988)]"
      ]
     },
     "execution_count": 6,
     "metadata": {},
     "output_type": "execute_result"
    }
   ],
   "source": [
    "ans = {}\n",
    "for sentence in res:\n",
    "    for word in sentence:\n",
    "        if word['表層格'] in ans:\n",
    "            ans[word['表層格']] += 1\n",
    "        else:\n",
    "            ans[word['表層格']] = 1\n",
    "            \n",
    "ans = sorted(ans.items(), key = lambda x:x[1], reverse = True)\n",
    "\n",
    "ans[:10]"
   ]
  },
  {
   "cell_type": "markdown",
   "id": "479f4a01",
   "metadata": {},
   "source": [
    "# 36.頻度上位10語"
   ]
  },
  {
   "cell_type": "code",
   "execution_count": 7,
   "id": "259bbbe8",
   "metadata": {},
   "outputs": [
    {
     "data": {
      "text/plain": [
       "<BarContainer object of 10 artists>"
      ]
     },
     "execution_count": 7,
     "metadata": {},
     "output_type": "execute_result"
    },
    {
     "data": {
      "image/png": "[encoded data removed]",
      "text/plain": [
       "<Figure size 432x288 with 1 Axes>"
      ]
     },
     "metadata": {
      "needs_background": "light"
     },
     "output_type": "display_data"
    }
   ],
   "source": [
    "import matplotlib.pyplot as plt\n",
    "import japanize_matplotlib\n",
    "\n",
    "\n",
    "keys = [key[0] for key in ans[:10]]\n",
    "values = [value[1] for value in ans[:10]]\n",
    "\n",
    "fig , ax = plt.subplots()\n",
    "ax.bar(keys,values)\n"
   ]
  },
  {
   "cell_type": "markdown",
   "id": "cafc5145",
   "metadata": {},
   "source": [
    "# 37.「猫」と共起頻度の高い上位10単語"
   ]
  },
  {
   "cell_type": "code",
   "execution_count": 8,
   "id": "6dbe053a",
   "metadata": {},
   "outputs": [
    {
     "data": {
      "text/plain": [
       "<BarContainer object of 10 artists>"
      ]
     },
     "execution_count": 8,
     "metadata": {},
     "output_type": "execute_result"
    },
    {
     "data": {
      "image/png": "[encoded data removed]",
      "text/plain": [
       "<Figure size 432x288 with 1 Axes>"
      ]
     },
     "metadata": {
      "needs_background": "light"
     },
     "output_type": "display_data"
    }
   ],
   "source": [
    "ans_neko = {}\n",
    "for sentence in res:\n",
    "    if '猫' in [s['表層格'] for s in sentence]:\n",
    "        for word in sentence:\n",
    "            if word['表層格'] in ans:\n",
    "                ans_neko[word['表層格']] += 1\n",
    "            else:\n",
    "                ans_neko[word['表層格']] = 1\n",
    "\n",
    "del ans_neko['猫']\n",
    "ans_neko = sorted(ans_neko.items(), key = lambda x:x[1], reverse = True)\n",
    "\n",
    "keys = [key[0] for key in ans[:10]]\n",
    "values = [value[1] for value in ans[:10]]\n",
    "\n",
    "fig , ax = plt.subplots()\n",
    "ax.bar(keys,values)\n"
   ]
  },
  {
   "cell_type": "markdown",
   "id": "190aed66",
   "metadata": {},
   "source": [
    "# 38.ヒストグラム"
   ]
  },
  {
   "cell_type": "code",
   "execution_count": 9,
   "id": "3a94a351",
   "metadata": {},
   "outputs": [
    {
     "data": {
      "text/plain": [
       "(array([1.3474e+04, 5.5000e+01, 1.4000e+01, 8.0000e+00, 0.0000e+00,\n",
       "        8.0000e+00, 2.0000e+00, 0.0000e+00, 3.0000e+00, 1.0000e+00,\n",
       "        0.0000e+00, 1.0000e+00, 3.0000e+00, 1.0000e+00, 0.0000e+00,\n",
       "        0.0000e+00, 0.0000e+00, 2.0000e+00, 0.0000e+00, 0.0000e+00,\n",
       "        1.0000e+00, 1.0000e+00, 0.0000e+00, 0.0000e+00, 0.0000e+00,\n",
       "        0.0000e+00, 0.0000e+00, 0.0000e+00, 0.0000e+00, 2.0000e+00,\n",
       "        0.0000e+00, 0.0000e+00, 0.0000e+00, 2.0000e+00, 1.0000e+00,\n",
       "        0.0000e+00, 1.0000e+00, 1.0000e+00, 0.0000e+00, 0.0000e+00,\n",
       "        1.0000e+00, 0.0000e+00, 0.0000e+00, 0.0000e+00, 0.0000e+00,\n",
       "        0.0000e+00, 0.0000e+00, 0.0000e+00, 0.0000e+00, 1.0000e+00]),\n",
       " array([1.00000e+00, 1.84860e+02, 3.68720e+02, 5.52580e+02, 7.36440e+02,\n",
       "        9.20300e+02, 1.10416e+03, 1.28802e+03, 1.47188e+03, 1.65574e+03,\n",
       "        1.83960e+03, 2.02346e+03, 2.20732e+03, 2.39118e+03, 2.57504e+03,\n",
       "        2.75890e+03, 2.94276e+03, 3.12662e+03, 3.31048e+03, 3.49434e+03,\n",
       "        3.67820e+03, 3.86206e+03, 4.04592e+03, 4.22978e+03, 4.41364e+03,\n",
       "        4.59750e+03, 4.78136e+03, 4.96522e+03, 5.14908e+03, 5.33294e+03,\n",
       "        5.51680e+03, 5.70066e+03, 5.88452e+03, 6.06838e+03, 6.25224e+03,\n",
       "        6.43610e+03, 6.61996e+03, 6.80382e+03, 6.98768e+03, 7.17154e+03,\n",
       "        7.35540e+03, 7.53926e+03, 7.72312e+03, 7.90698e+03, 8.09084e+03,\n",
       "        8.27470e+03, 8.45856e+03, 8.64242e+03, 8.82628e+03, 9.01014e+03,\n",
       "        9.19400e+03]),\n",
       " <BarContainer object of 50 artists>)"
      ]
     },
     "execution_count": 9,
     "metadata": {},
     "output_type": "execute_result"
    },
    {
     "data": {
      "image/png": "[encoded data removed]",
      "text/plain": [
       "<Figure size 432x288 with 1 Axes>"
      ]
     },
     "metadata": {
      "needs_background": "light"
     },
     "output_type": "display_data"
    }
   ],
   "source": [
    "ans = {}\n",
    "for sentence in res:\n",
    "    for word in sentence:\n",
    "        if word['表層格'] in ans:\n",
    "            ans[word['表層格']] += 1\n",
    "        else:\n",
    "            ans[word['表層格']] = 1\n",
    "            \n",
    "fig , ax = plt.subplots()\n",
    "ax.hist(ans.values(),bins = 50)"
   ]
  },
  {
   "cell_type": "markdown",
   "id": "f744e460",
   "metadata": {},
   "source": [
    "# 39.Zipfの法則 "
   ]
  },
  {
   "cell_type": "code",
   "execution_count": 10,
   "id": "acb66d16",
   "metadata": {},
   "outputs": [
    {
     "data": {
      "image/png": "[encoded data removed]",
      "text/plain": [
       "<Figure size 432x288 with 1 Axes>"
      ]
     },
     "metadata": {
      "needs_background": "light"
     },
     "output_type": "display_data"
    }
   ],
   "source": [
    "ans = {}\n",
    "for sentence in res:\n",
    "    for word in sentence:\n",
    "        if word['表層格'] in ans:\n",
    "            ans[word['表層格']] += 1\n",
    "        else:\n",
    "            ans[word['表層格']] = 1\n",
    "            \n",
    "ans = sorted(ans.items(), key = lambda x:x[1], reverse = True)\n",
    "\n",
    "x = [i+1 for i in range(len(ans))]\n",
    "y = [i[1] for i in ans]\n",
    "\n",
    "fig,ax = plt.subplots()\n",
    "ax.plot(x,y)\n",
    "ax.set_yscale('log')  \n",
    "ax.set_xscale('log')"
   ]
  }
 ],
 "metadata": {
  "kernelspec": {
   "display_name": "Python 3",
   "language": "python",
   "name": "python3"
  },
  "language_info": {
   "codemirror_mode": {
    "name": "ipython",
    "version": 3
   },
   "file_extension": ".py",
   "mimetype": "text/x-python",
   "name": "python",
   "nbconvert_exporter": "python",
   "pygments_lexer": "ipython3",
   "version": "3.9.4"
  }
 },
 "nbformat": 4,
 "nbformat_minor": 5
}

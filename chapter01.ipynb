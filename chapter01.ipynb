{
 "cells": [
  {
   "cell_type": "code",
   "execution_count": 7,
   "id": "fbd43136",
   "metadata": {},
   "outputs": [
    {
     "name": "stdout",
     "output_type": "stream",
     "text": [
      "desserts\n"
     ]
    }
   ],
   "source": [
    "print(\"stressed\"[::-1])"
   ]
  },
  {
   "cell_type": "code",
   "execution_count": 8,
   "id": "fce42c04",
   "metadata": {},
   "outputs": [
    {
     "name": "stdout",
     "output_type": "stream",
     "text": [
      "パトカー\n"
     ]
    }
   ],
   "source": [
    "print(\"パタトクカシーー\"[::2])"
   ]
  },
  {
   "cell_type": "code",
   "execution_count": 9,
   "id": "f31efeaf",
   "metadata": {},
   "outputs": [
    {
     "name": "stdout",
     "output_type": "stream",
     "text": [
      "パタトクカシーー\n"
     ]
    }
   ],
   "source": [
    "str1 = \"パトカー\"\n",
    "str2 = \"タクシー\"\n",
    "str3 = \"\"\n",
    "\n",
    "for i in range(len(str1)):\n",
    "    str3 += str1[i]  + str2[i]\n",
    "\n",
    "print(str3)"
   ]
  },
  {
   "cell_type": "code",
   "execution_count": 10,
   "id": "9f90a166",
   "metadata": {},
   "outputs": [
    {
     "name": "stdout",
     "output_type": "stream",
     "text": [
      "[3, 1, 4, 1, 5, 9, 2, 6, 5, 3, 5, 8, 9, 7, 9]\n"
     ]
    }
   ],
   "source": [
    "sentence = \"Now I need a drink, alcoholic of course, after the heavy lectures involving quantum mechanics.\"\n",
    "replaced = sentence.replace(',','').replace('.','')\n",
    "list = []\n",
    "\n",
    "for name in replaced.split():\n",
    "    list.append(len(name))\n",
    "    \n",
    "print(list)"
   ]
  },
  {
   "cell_type": "code",
   "execution_count": 11,
   "id": "9c7ab285",
   "metadata": {},
   "outputs": [
    {
     "name": "stdout",
     "output_type": "stream",
     "text": [
      "{'H': 1, 'He': 2, 'Li': 3, 'Be': 4, 'B': 5, 'C': 6, 'N': 7, 'O': 8, 'F': 9, 'Ne': 10, 'Na': 11, 'Mi': 12, 'Al': 13, 'Si': 14, 'P': 15, 'S': 16, 'Cl': 17, 'Ar': 18, 'K': 19, 'Ca': 20}\n"
     ]
    }
   ],
   "source": [
    "sentence = \"Hi He Lied Because Boron Could Not Oxidize Fluorine. New Nations Might Also Sign Peace Security Clause. Arthur King Can.\"\n",
    "replaced = sentence.replace('.','')\n",
    "\n",
    "bangou = (1,5,6,7,8,9,15,16,19)\n",
    "jisho = {}\n",
    "\n",
    "\n",
    "for i, name in enumerate(replaced.split()):\n",
    "    i = i+1\n",
    "    if i in bangou:\n",
    "        jisho.setdefault(name[0:1],i)\n",
    "    else:\n",
    "        jisho.setdefault(name[0:2],i)\n",
    "        \n",
    "print(jisho)"
   ]
  },
  {
   "cell_type": "code",
   "execution_count": 12,
   "id": "7f6cb329",
   "metadata": {},
   "outputs": [
    {
     "name": "stdout",
     "output_type": "stream",
     "text": [
      "['I ', ' a', 'am', 'm ', ' a', 'an', 'n ', ' N', 'NL', 'LP', 'Pe', 'er']\n",
      "[['I', 'am'], ['am', 'an'], ['an', 'NLPer']]\n"
     ]
    }
   ],
   "source": [
    "def ngram(sentence,n):\n",
    "    result = []\n",
    "    for i in range(0, len(sentence) - n +1):\n",
    "        result.append(sentence[i:i + n])\n",
    "    \n",
    "    return result\n",
    "\n",
    "print(ngram('I am an NLPer',2))\n",
    "print(ngram('I am an NLPer'.split(' '),2))   "
   ]
  },
  {
   "cell_type": "code",
   "execution_count": 13,
   "id": "56a12974",
   "metadata": {},
   "outputs": [
    {
     "name": "stdout",
     "output_type": "stream",
     "text": [
      "{'ar', 'ad', 'ap', 'ag', 'is', 'di', 'se', 'gr', 'pa', 'ra', 'ph'}\n",
      "{'ap', 'ar', 'ra', 'pa'}\n",
      "{'is', 'di', 'se', 'ad'}\n",
      "se in X: True\n",
      "se in X: False\n"
     ]
    }
   ],
   "source": [
    "X = set(ngram('paraparaparadise',2))\n",
    "Y = set(ngram('paragraph',2))\n",
    "\n",
    "OR = X | Y\n",
    "print(OR)\n",
    "AND = X & Y\n",
    "print(AND)\n",
    "SUB = X - Y\n",
    "print(SUB)\n",
    "print(\"se in X:\",\"se\" in X)\n",
    "print(\"se in X:\",\"se\" in Y)"
   ]
  },
  {
   "cell_type": "code",
   "execution_count": 14,
   "id": "0e9161ae",
   "metadata": {},
   "outputs": [
    {
     "name": "stdout",
     "output_type": "stream",
     "text": [
      "12時の気温は22.4\n"
     ]
    }
   ],
   "source": [
    "def generate(x,y,z):\n",
    "    return '{0}時の{1}は{2}'.format(x, y, z)\n",
    "\n",
    "print(generate(12,'気温',22.4))"
   ]
  },
  {
   "cell_type": "code",
   "execution_count": 15,
   "id": "f7db3124",
   "metadata": {},
   "outputs": [
    {
     "name": "stdout",
     "output_type": "stream",
     "text": [
      "I zn NLPvi\n"
     ]
    }
   ],
   "source": [
    "def chpher(message):\n",
    "    result = ''\n",
    "    for c in message:\n",
    "        if c.islower():\n",
    "            result += chr(219 - ord(c))\n",
    "        else:\n",
    "            result += c\n",
    "    return result\n",
    "\n",
    "print(chpher('I am NLPer'))"
   ]
  },
  {
   "cell_type": "code",
   "execution_count": 16,
   "id": "047f9890",
   "metadata": {},
   "outputs": [
    {
     "name": "stdout",
     "output_type": "stream",
     "text": [
      "I mind : reading that human the power actually believe understand of could couldn’t the was I I what phenomenal .\n"
     ]
    }
   ],
   "source": [
    "import random\n",
    "\n",
    "def shuffle(sentence):\n",
    "    words = sentence.split()\n",
    "    if 4 < len(words):\n",
    "        result = words[0] +' ' +' '.join(random.sample(words[1:-1], len(words)-2)) + ' ' + words[-1]\n",
    "    else:\n",
    "        result = ' '.join(words)\n",
    "    return result\n",
    "    \n",
    "print(shuffle('I couldn’t believe that I could actually understand what I was reading : the phenomenal power of the human mind .'))\n"
   ]
  },
  {
   "cell_type": "code",
   "execution_count": null,
   "id": "53e963cc",
   "metadata": {},
   "outputs": [],
   "source": []
  }
 ],
 "metadata": {
  "kernelspec": {
   "display_name": "Python 3",
   "language": "python",
   "name": "python3"
  },
  "language_info": {
   "codemirror_mode": {
    "name": "ipython",
    "version": 3
   },
   "file_extension": ".py",
   "mimetype": "text/x-python",
   "name": "python",
   "nbconvert_exporter": "python",
   "pygments_lexer": "ipython3",
   "version": "3.9.4"
  }
 },
 "nbformat": 4,
 "nbformat_minor": 5
}

{
 "cells": [
  {
   "cell_type": "markdown",
   "id": "f60ba517",
   "metadata": {},
   "source": [
    "# 70.単語ベクトルの和による特徴量"
   ]
  },
  {
   "cell_type": "code",
   "execution_count": 2,
   "id": "41dbec25",
   "metadata": {},
   "outputs": [],
   "source": [
    "import gensim\n",
    "model = gensim.models.KeyedVectors.load_word2vec_format('GoogleNews-vectors-negative300.bin.gz',binary = True)"
   ]
  },
  {
   "cell_type": "code",
   "execution_count": 4,
   "id": "05a6f540",
   "metadata": {},
   "outputs": [],
   "source": [
    "import pandas as pd\n",
    "import re, gensim, torch\n",
    "import numpy as np"
   ]
  },
  {
   "cell_type": "code",
   "execution_count": 5,
   "id": "af571688",
   "metadata": {},
   "outputs": [],
   "source": [
    "def word_feature(text):\n",
    "    df = pd.read_table(text ,index_col=0)\n",
    "    X = []\n",
    "    Y = []\n",
    "    for category, title in df.iterrows():\n",
    "        emb = [model[word] for word in title[0].split(' ') if word in model]\n",
    "        if len(emb) != 0:\n",
    "            x = sum(emb) / len(emb)\n",
    "        else:\n",
    "            x = np.zeros(300)\n",
    "        X.append(x)\n",
    "        if category == 'b':\n",
    "            Y.append(0)\n",
    "        elif category == 't':\n",
    "            Y.append(1)\n",
    "        elif category == 'e':\n",
    "            Y.append(2)\n",
    "        else:\n",
    "            Y.append(3)\n",
    "    return torch.tensor(X).float(),torch.tensor(Y).float()"
   ]
  },
  {
   "cell_type": "code",
   "execution_count": 6,
   "id": "6419a8f1",
   "metadata": {},
   "outputs": [],
   "source": [
    "train_X,train_Y = word_feature('train.txt')\n",
    "test_X,test_Y   = word_feature('test.txt')\n",
    "valid_X,valid_Y = word_feature('valid.txt')"
   ]
  },
  {
   "cell_type": "code",
   "execution_count": 7,
   "id": "88a1bf27",
   "metadata": {},
   "outputs": [],
   "source": [
    "torch.save(train_X, 'train_X.pt')\n",
    "torch.save(train_Y, 'train_Y.pt')\n",
    "torch.save(test_X, 'test_X.pt')\n",
    "torch.save(test_Y, 'test_Y.pt')\n",
    "torch.save(valid_X, 'valid_X.pt')\n",
    "torch.save(valid_Y, 'valid_Y.pt')"
   ]
  },
  {
   "cell_type": "markdown",
   "id": "6df44036",
   "metadata": {},
   "source": [
    "# 71.単装ニューラルネットワークによる予測"
   ]
  },
  {
   "cell_type": "code",
   "execution_count": 8,
   "id": "453479b2",
   "metadata": {},
   "outputs": [],
   "source": [
    "import torch.nn as nn\n",
    "class NeuralNetwork(nn.Module):\n",
    "    def __init__(self,input_size,output_size):\n",
    "        super().__init__()\n",
    "        self.fc = nn.Linear(input_size,output_size,bias=False)\n",
    "        \n",
    "    def forward(self,x):\n",
    "        x = self.fc(x)\n",
    "        return x"
   ]
  },
  {
   "cell_type": "code",
   "execution_count": 9,
   "id": "ea87fa54",
   "metadata": {},
   "outputs": [],
   "source": [
    "model_ = NeuralNetwork(300,4)    "
   ]
  },
  {
   "cell_type": "code",
   "execution_count": 10,
   "id": "570fe62b",
   "metadata": {},
   "outputs": [
    {
     "data": {
      "text/plain": [
       "tensor([0.2725, 0.2341, 0.2442, 0.2492], grad_fn=<SoftmaxBackward>)"
      ]
     },
     "execution_count": 10,
     "metadata": {},
     "output_type": "execute_result"
    }
   ],
   "source": [
    "y = model_(train_X[0])\n",
    "y = torch.softmax(y,dim = 0)\n",
    "y"
   ]
  },
  {
   "cell_type": "code",
   "execution_count": 11,
   "id": "6e79c594",
   "metadata": {},
   "outputs": [
    {
     "data": {
      "text/plain": [
       "tensor([[0.2725, 0.2341, 0.2442, 0.2492],\n",
       "        [0.2395, 0.2573, 0.2417, 0.2615],\n",
       "        [0.2336, 0.2579, 0.2569, 0.2517],\n",
       "        [0.2505, 0.2398, 0.2565, 0.2532]], grad_fn=<SoftmaxBackward>)"
      ]
     },
     "execution_count": 11,
     "metadata": {},
     "output_type": "execute_result"
    }
   ],
   "source": [
    "Y = model_(train_X[:4])\n",
    "Y = torch.softmax(Y, dim=1)\n",
    "Y"
   ]
  },
  {
   "cell_type": "markdown",
   "id": "34317de0",
   "metadata": {},
   "source": [
    "# 72.損失と勾配の計算"
   ]
  },
  {
   "cell_type": "code",
   "execution_count": 12,
   "id": "db53f6d9",
   "metadata": {},
   "outputs": [],
   "source": [
    "loss_fn = nn.CrossEntropyLoss()"
   ]
  },
  {
   "cell_type": "code",
   "execution_count": 13,
   "id": "c63fa8f6",
   "metadata": {},
   "outputs": [
    {
     "name": "stdout",
     "output_type": "stream",
     "text": [
      "loss: 1.4097694158554077\n",
      "gradient: tensor([[ 0.0442,  0.0473, -0.0234,  ..., -0.0365,  0.0214,  0.0134],\n",
      "        [ 0.0380,  0.0407, -0.0201,  ..., -0.0314,  0.0184,  0.0115],\n",
      "        [-0.1226, -0.1313,  0.0650,  ...,  0.1013, -0.0593, -0.0371],\n",
      "        [ 0.0404,  0.0433, -0.0214,  ..., -0.0334,  0.0196,  0.0123]])\n"
     ]
    }
   ],
   "source": [
    "loss = loss_fn(model_(train_X[:1]),train_Y[:1].type(torch.long))\n",
    "model_.zero_grad()\n",
    "loss.backward()\n",
    "print('loss:',loss.item())\n",
    "print('gradient:',model_.fc.weight.grad)"
   ]
  },
  {
   "cell_type": "code",
   "execution_count": 14,
   "id": "239d0160",
   "metadata": {},
   "outputs": [
    {
     "name": "stdout",
     "output_type": "stream",
     "text": [
      "loss: 1.4279836416244507\n",
      "gradient: tensor([[ 7.5129e-03, -2.6145e-03, -1.5603e-02,  ..., -5.1055e-03,\n",
      "          1.1626e-02, -4.1431e-03],\n",
      "        [ 6.5152e-03,  7.2762e-03, -2.6156e-03,  ..., -1.3691e-02,\n",
      "         -4.4037e-03,  2.9649e-03],\n",
      "        [-3.7236e-02, -1.6884e-02,  2.6314e-02,  ...,  3.1937e-02,\n",
      "         -1.1932e-02,  4.7543e-06],\n",
      "        [ 2.3208e-02,  1.2222e-02, -8.0949e-03,  ..., -1.3141e-02,\n",
      "          4.7100e-03,  1.1734e-03]])\n"
     ]
    }
   ],
   "source": [
    "loss = loss_fn(model_(train_X[:4]),train_Y[:4].type(torch.long))\n",
    "model_.zero_grad()\n",
    "loss.backward()\n",
    "print('loss:',loss.item())\n",
    "print('gradient:',model_.fc.weight.grad)"
   ]
  },
  {
   "cell_type": "markdown",
   "id": "c9ad225e",
   "metadata": {},
   "source": [
    "# 73.確率的勾配降下法による学習"
   ]
  },
  {
   "cell_type": "code",
   "execution_count": 15,
   "id": "5c72a6f4",
   "metadata": {},
   "outputs": [],
   "source": [
    "class Dataset(torch.utils.data.Dataset):\n",
    "    def __init__(self, x, t):\n",
    "        self.x = x\n",
    "        self.t = t\n",
    "        self.size = len(x)\n",
    "    \n",
    "    def __len__(self):\n",
    "        return self.size\n",
    "            \n",
    "    def __getitem__(self, index):\n",
    "        return [\n",
    "                self.x[index],\n",
    "                self.t[index]]\n",
    "\n",
    "def train_loop(dataloader,model,loss_fn,optimizer):\n",
    "    size = len(dataloader.dataset)\n",
    "    train_loss, correct = 0, 0\n",
    "    for batch, (X,y) in enumerate(dataloader):\n",
    "        pred = model(X)\n",
    "        loss = loss_fn(pred,y.type(torch.long))\n",
    "        \n",
    "        #back\n",
    "        optimizer.zero_grad()\n",
    "        loss.backward()\n",
    "        optimizer.step()\n",
    "        \n",
    "        train_loss += loss.item()\n",
    "        correct += (pred.argmax(1) == y.type(torch.long)).type(torch.float).sum().item()\n",
    "            \n",
    "    \n",
    "        \n",
    "   #     if batch % 100 == 0:\n",
    "    #        loss, current = loss.item(), batch * len(X)\n",
    "     #       print(f\"loss: {loss:>7f}  [{current:>5d}/{size:>5d}]\")\n",
    "    train_loss /= size\n",
    "    correct /= size\n",
    "    print(f\"Accuracy: {(100*correct):>0.1f}%, Avg loss: {train_loss:>8f}\")\n",
    "    \n",
    "    return 100*correct, train_loss\n",
    "\n",
    "def test_loop(dataloader, model, loss_fn):\n",
    "    size = len(dataloader.dataset)\n",
    "    test_loss, correct = 0, 0\n",
    "\n",
    "    with torch.no_grad():\n",
    "        for (X, y) in dataloader:\n",
    "            pred = model(X)\n",
    "            test_loss += loss_fn(pred, y.type(torch.long)).item()\n",
    "            correct += (pred.argmax(1) == y.type(torch.long)).type(torch.float).sum().item()\n",
    "            \n",
    "    test_loss /= size\n",
    "    correct /= size\n",
    "    print(f\"Test Error: Accuracy: {(100*correct):>0.1f}%, Avg loss: {test_loss:>8f}\")\n",
    "    \n",
    "    return 100*correct, test_loss"
   ]
  },
  {
   "cell_type": "code",
   "execution_count": 16,
   "id": "a010f739",
   "metadata": {},
   "outputs": [
    {
     "name": "stdout",
     "output_type": "stream",
     "text": [
      "Epoch 1-------------------------------\n",
      "Accuracy: 78.0%, Avg loss: 0.697478\n",
      "Test Error: Accuracy: 81.7%, Avg loss: 0.538296\n",
      "Epoch 2-------------------------------\n",
      "Accuracy: 83.6%, Avg loss: 0.486347\n",
      "Test Error: Accuracy: 85.3%, Avg loss: 0.454752\n",
      "Epoch 3-------------------------------\n",
      "Accuracy: 85.8%, Avg loss: 0.427370\n",
      "Test Error: Accuracy: 86.8%, Avg loss: 0.417375\n",
      "Epoch 4-------------------------------\n",
      "Accuracy: 87.0%, Avg loss: 0.396131\n",
      "Test Error: Accuracy: 87.5%, Avg loss: 0.395045\n",
      "Epoch 5-------------------------------\n",
      "Accuracy: 87.8%, Avg loss: 0.376552\n",
      "Test Error: Accuracy: 88.0%, Avg loss: 0.381007\n",
      "Epoch 6-------------------------------\n",
      "Accuracy: 88.2%, Avg loss: 0.362656\n",
      "Test Error: Accuracy: 88.1%, Avg loss: 0.371154\n",
      "Epoch 7-------------------------------\n",
      "Accuracy: 88.5%, Avg loss: 0.352168\n",
      "Test Error: Accuracy: 88.1%, Avg loss: 0.364636\n",
      "Epoch 8-------------------------------\n",
      "Accuracy: 88.7%, Avg loss: 0.343920\n",
      "Test Error: Accuracy: 88.1%, Avg loss: 0.358324\n",
      "Epoch 9-------------------------------\n",
      "Accuracy: 88.7%, Avg loss: 0.337020\n",
      "Test Error: Accuracy: 88.2%, Avg loss: 0.354059\n",
      "Epoch 10-------------------------------\n",
      "Accuracy: 89.0%, Avg loss: 0.331612\n",
      "Test Error: Accuracy: 88.2%, Avg loss: 0.350276\n",
      "Done!\n"
     ]
    }
   ],
   "source": [
    "from torch.utils.data import DataLoader\n",
    "traindata = Dataset(train_X,train_Y)\n",
    "testdata = Dataset(test_X,test_Y)\n",
    "\n",
    "\n",
    "train_loader = DataLoader(traindata,batch_size=1, shuffle=True)\n",
    "test_loader = DataLoader(testdata,batch_size=1, shuffle=False)\n",
    "\n",
    "model = NeuralNetwork(300,4)\n",
    "loss_fn = nn.CrossEntropyLoss()\n",
    "optimizer = torch.optim.SGD(model.parameters(),lr =0.01)\n",
    "\n",
    "epochs = 10\n",
    "for t in range(epochs):\n",
    "    print(f\"Epoch {t+1}-------------------------------\")\n",
    "    train_loop(train_loader, model, loss_fn, optimizer)\n",
    "    test_loop(test_loader, model, loss_fn)\n",
    "print(\"Done!\")"
   ]
  },
  {
   "cell_type": "markdown",
   "id": "62024e94",
   "metadata": {},
   "source": [
    "# 74.正解率の計測"
   ]
  },
  {
   "cell_type": "code",
   "execution_count": 1,
   "id": "b153e14c",
   "metadata": {},
   "outputs": [],
   "source": [
    "def accuracy(dataloader, model):\n",
    "    size = len(dataloader.dataset)\n",
    "    test_loss, correct = 0, 0\n",
    "\n",
    "    with torch.no_grad():\n",
    "        for (X, y) in dataloader:\n",
    "            pred = model(X)\n",
    "       #     print((pred.argmax(1) == y).type(torch.float).item())\n",
    "            correct += (pred.argmax(1) == y).item()\n",
    "            \n",
    "    correct /= size\n",
    "    return correct"
   ]
  },
  {
   "cell_type": "code",
   "execution_count": 2,
   "id": "0000cc73",
   "metadata": {},
   "outputs": [
    {
     "ename": "NameError",
     "evalue": "name 'train_loader' is not defined",
     "output_type": "error",
     "traceback": [
      "\u001b[0;31m---------------------------------------------------------------------------\u001b[0m",
      "\u001b[0;31mNameError\u001b[0m                                 Traceback (most recent call last)",
      "\u001b[0;32m<ipython-input-2-69d7dc8f5ef7>\u001b[0m in \u001b[0;36m<module>\u001b[0;34m\u001b[0m\n\u001b[0;32m----> 1\u001b[0;31m \u001b[0mtrain_accuracy\u001b[0m \u001b[0;34m=\u001b[0m \u001b[0maccuracy\u001b[0m\u001b[0;34m(\u001b[0m\u001b[0mtrain_loader\u001b[0m\u001b[0;34m,\u001b[0m\u001b[0mmodel\u001b[0m\u001b[0;34m)\u001b[0m\u001b[0;34m\u001b[0m\u001b[0;34m\u001b[0m\u001b[0m\n\u001b[0m\u001b[1;32m      2\u001b[0m \u001b[0mtest_accuracy\u001b[0m \u001b[0;34m=\u001b[0m \u001b[0maccuracy\u001b[0m\u001b[0;34m(\u001b[0m\u001b[0mtest_loader\u001b[0m\u001b[0;34m,\u001b[0m\u001b[0mmodel\u001b[0m\u001b[0;34m)\u001b[0m\u001b[0;34m\u001b[0m\u001b[0;34m\u001b[0m\u001b[0m\n\u001b[1;32m      3\u001b[0m \u001b[0mprint\u001b[0m\u001b[0;34m(\u001b[0m\u001b[0;34mf'train: {train_accuracy:.3f}'\u001b[0m\u001b[0;34m)\u001b[0m\u001b[0;34m\u001b[0m\u001b[0;34m\u001b[0m\u001b[0m\n\u001b[1;32m      4\u001b[0m \u001b[0mprint\u001b[0m\u001b[0;34m(\u001b[0m\u001b[0;34mf'test : {test_accuracy:.3f}'\u001b[0m\u001b[0;34m)\u001b[0m\u001b[0;34m\u001b[0m\u001b[0;34m\u001b[0m\u001b[0m\n",
      "\u001b[0;31mNameError\u001b[0m: name 'train_loader' is not defined"
     ]
    }
   ],
   "source": [
    "train_accuracy = accuracy(train_loader,model)\n",
    "test_accuracy = accuracy(test_loader,model)\n",
    "print(f'train: {train_accuracy:.3f}')\n",
    "print(f'test : {test_accuracy:.3f}')"
   ]
  },
  {
   "cell_type": "markdown",
   "id": "5a62ccca",
   "metadata": {},
   "source": [
    "# 75.損失と正解率のプロット"
   ]
  },
  {
   "cell_type": "code",
   "execution_count": 189,
   "id": "b9babcdf",
   "metadata": {},
   "outputs": [
    {
     "name": "stdout",
     "output_type": "stream",
     "text": [
      "Epoch 1-------------------------------\n",
      "Accuracy: 61.4%, Avg loss: 0.010492\n",
      "Test Error: Accuracy: 72.7%, Avg loss: 0.010675\n",
      "Epoch 2-------------------------------\n",
      "Accuracy: 74.7%, Avg loss: 0.009931\n",
      "Test Error: Accuracy: 76.2%, Avg loss: 0.010144\n",
      "Epoch 3-------------------------------\n",
      "Accuracy: 76.2%, Avg loss: 0.009473\n",
      "Test Error: Accuracy: 76.7%, Avg loss: 0.009704\n",
      "Epoch 4-------------------------------\n",
      "Accuracy: 76.7%, Avg loss: 0.009086\n",
      "Test Error: Accuracy: 77.1%, Avg loss: 0.009333\n",
      "Epoch 5-------------------------------\n",
      "Accuracy: 76.9%, Avg loss: 0.008758\n",
      "Test Error: Accuracy: 77.3%, Avg loss: 0.009016\n",
      "Epoch 6-------------------------------\n",
      "Accuracy: 77.1%, Avg loss: 0.008474\n",
      "Test Error: Accuracy: 77.3%, Avg loss: 0.008741\n",
      "Epoch 7-------------------------------\n",
      "Accuracy: 77.2%, Avg loss: 0.008229\n",
      "Test Error: Accuracy: 77.4%, Avg loss: 0.008502\n",
      "Epoch 8-------------------------------\n",
      "Accuracy: 77.2%, Avg loss: 0.008015\n",
      "Test Error: Accuracy: 77.4%, Avg loss: 0.008290\n",
      "Epoch 9-------------------------------\n",
      "Accuracy: 77.2%, Avg loss: 0.007827\n",
      "Test Error: Accuracy: 77.4%, Avg loss: 0.008102\n",
      "Epoch 10-------------------------------\n",
      "Accuracy: 77.2%, Avg loss: 0.007660\n",
      "Test Error: Accuracy: 77.4%, Avg loss: 0.007934\n",
      "Done!\n"
     ]
    }
   ],
   "source": [
    "model = NeuralNetwork(300,4)\n",
    "loss = nn.CrossEntropyLoss()\n",
    "optimizer = torch.optim.SGD(model.parameters(),lr = 0.01)\n",
    "\n",
    "train_res = []\n",
    "valid_res = []\n",
    "\n",
    "epochs = 10\n",
    "for t in range(epochs):\n",
    "    print(f\"Epoch {t+1}-------------------------------\")\n",
    "    train_acc, train_loss = train_loop(train_loader, model, loss_fn, optimizer)\n",
    "    valid_acc, valid_loss = test_loop(test_loader, model, loss_fn)\n",
    "   \n",
    "    train_res.append((train_acc,train_loss))\n",
    "    valid_res.append((valid_acc,valid_loss))\n",
    "\n",
    "print(\"Done!\")\n"
   ]
  },
  {
   "cell_type": "code",
   "execution_count": 193,
   "id": "1da8d3ed",
   "metadata": {},
   "outputs": [
    {
     "name": "stdout",
     "output_type": "stream",
     "text": [
      "[(0.6136619190404797, 0.010491506773224477), (0.7466266866566716, 0.009931388387883799), (0.7619940029985007, 0.009472610096613328), (0.7669602698650675, 0.009085651704932618), (0.7694902548725637, 0.008757874548345848), (0.7708020989505248, 0.008474255681618758), (0.7716454272863568, 0.008228547826431681), (0.7722076461769115, 0.0080150136726907), (0.7723950524737632, 0.007827075541779019), (0.7722076461769115, 0.007659659856396994)]\n"
     ]
    },
    {
     "data": {
      "text/plain": [
       "<matplotlib.legend.Legend at 0x11c3575b0>"
      ]
     },
     "execution_count": 193,
     "metadata": {},
     "output_type": "execute_result"
    },
    {
     "data": {
      "image/png": "[encoded data removed]",
      "text/plain": [
       "<Figure size 1008x360 with 2 Axes>"
      ]
     },
     "metadata": {
      "needs_background": "light"
     },
     "output_type": "display_data"
    }
   ],
   "source": [
    "import matplotlib.pyplot as plt\n",
    "\n",
    "train_acc = [i[0] for i in train_res]\n",
    "train_loss= [i[1] for i in train_res]\n",
    "valid_acc = [i[0] for i in valid_res]\n",
    "valid_loss = [i[1] for i in valid_res]\n",
    "\n",
    "\n",
    "fig,ax = plt.subplots(1,2,figsize=(14,5))\n",
    "\n",
    "ax[0].plot(train_acc, label='train')\n",
    "ax[0].plot(valid_acc, label='valid')\n",
    "ax[1].plot(train_loss, label='train')\n",
    "ax[1].plot(valid_loss, label='valid')\n",
    "ax[0].set_title(\"accuracy\")\n",
    "ax[1].set_title(\"loss\")\n",
    "ax[0].legend()\n",
    "ax[1].legend()"
   ]
  },
  {
   "cell_type": "markdown",
   "id": "b29ce163",
   "metadata": {},
   "source": [
    "# 76.チェックポイント"
   ]
  },
  {
   "cell_type": "code",
   "execution_count": 134,
   "id": "37c25104",
   "metadata": {},
   "outputs": [
    {
     "name": "stdout",
     "output_type": "stream",
     "text": [
      "Epoch 1-------------------------------\n",
      "Accuracy: 78.3%, Avg loss: 0.694679\n",
      "Test Error: Accuracy: 81.6%, Avg loss: 0.536945\n",
      "Epoch 2-------------------------------\n",
      "Accuracy: 83.5%, Avg loss: 0.486416\n",
      "Test Error: Accuracy: 84.9%, Avg loss: 0.453981\n",
      "Epoch 3-------------------------------\n",
      "Accuracy: 85.8%, Avg loss: 0.427310\n",
      "Test Error: Accuracy: 86.7%, Avg loss: 0.416404\n",
      "Epoch 4-------------------------------\n",
      "Accuracy: 87.2%, Avg loss: 0.395879\n",
      "Test Error: Accuracy: 87.3%, Avg loss: 0.394411\n",
      "Epoch 5-------------------------------\n",
      "Accuracy: 87.7%, Avg loss: 0.375916\n",
      "Test Error: Accuracy: 88.1%, Avg loss: 0.382628\n",
      "Epoch 6-------------------------------\n",
      "Accuracy: 88.2%, Avg loss: 0.362454\n",
      "Test Error: Accuracy: 87.7%, Avg loss: 0.371192\n",
      "Epoch 7-------------------------------\n",
      "Accuracy: 88.5%, Avg loss: 0.351943\n",
      "Test Error: Accuracy: 87.9%, Avg loss: 0.365006\n",
      "Epoch 8-------------------------------\n",
      "Accuracy: 88.7%, Avg loss: 0.343858\n",
      "Test Error: Accuracy: 88.1%, Avg loss: 0.358093\n",
      "Epoch 9-------------------------------\n",
      "Accuracy: 88.8%, Avg loss: 0.336995\n",
      "Test Error: Accuracy: 87.9%, Avg loss: 0.353932\n",
      "Epoch 10-------------------------------\n",
      "Accuracy: 89.1%, Avg loss: 0.331422\n",
      "Test Error: Accuracy: 88.1%, Avg loss: 0.351011\n",
      "Done!\n"
     ]
    }
   ],
   "source": [
    "model = NeuralNetwork(300,4)\n",
    "loss = nn.CrossEntropyLoss()\n",
    "optimizer = torch.optim.SGD(model.parameters(),lr = 0.01)\n",
    "\n",
    "\n",
    "train_res = []\n",
    "valid_res = []\n",
    "\n",
    "epochs = 10\n",
    "for t in range(epochs):\n",
    "    print(f\"Epoch {t+1}-------------------------------\")\n",
    "    train_loop(train_loader, model, loss_fn, optimizer)\n",
    "    test_loop(test_loader, model, loss_fn)\n",
    "    torch.save({\n",
    "            'epoch': t,\n",
    "            'model_state_dict': model.state_dict(),\n",
    "            'optimizer_state_dict': optimizer.state_dict(),\n",
    "            }, f'checkpoint{t+1}.pt')\n",
    "print(\"Done!\")"
   ]
  },
  {
   "cell_type": "code",
   "execution_count": 194,
   "id": "8952b1e3",
   "metadata": {},
   "outputs": [
    {
     "name": "stdout",
     "output_type": "stream",
     "text": [
      "checkpoint1.pt  checkpoint2.pt  checkpoint4.pt  checkpoint6.pt  checkpoint8.pt\r\n",
      "checkpoint10.pt checkpoint3.pt  checkpoint5.pt  checkpoint7.pt  checkpoint9.pt\r\n"
     ]
    }
   ],
   "source": [
    "! ls checkpoint*"
   ]
  },
  {
   "cell_type": "markdown",
   "id": "a1146942",
   "metadata": {},
   "source": [
    "# 77.ミニバッチ化\n"
   ]
  },
  {
   "cell_type": "code",
   "execution_count": 136,
   "id": "4cd9d771",
   "metadata": {},
   "outputs": [
    {
     "name": "stdout",
     "output_type": "stream",
     "text": [
      "batchsize:1\n",
      "Epoch 1-------------------------------\n",
      "Accuracy: 78.0%, Avg loss: 0.695678\n",
      "Test Error: Accuracy: 81.5%, Avg loss: 0.539306\n",
      "Epoch 2-------------------------------\n",
      "Accuracy: 83.4%, Avg loss: 0.487089\n",
      "Test Error: Accuracy: 85.1%, Avg loss: 0.455827\n",
      "Epoch 3-------------------------------\n",
      "Accuracy: 85.9%, Avg loss: 0.427570\n",
      "Test Error: Accuracy: 86.9%, Avg loss: 0.417705\n",
      "Epoch 4-------------------------------\n",
      "Accuracy: 86.9%, Avg loss: 0.396136\n",
      "Test Error: Accuracy: 87.6%, Avg loss: 0.395748\n",
      "13.759秒\n",
      "\n",
      "batchsize:2\n",
      "Epoch 1-------------------------------\n",
      "Accuracy: 77.1%, Avg loss: 0.403340\n",
      "Test Error: Accuracy: 78.5%, Avg loss: 0.319301\n",
      "Epoch 2-------------------------------\n",
      "Accuracy: 79.6%, Avg loss: 0.289928\n",
      "Test Error: Accuracy: 81.7%, Avg loss: 0.269225\n",
      "Epoch 3-------------------------------\n",
      "Accuracy: 82.6%, Avg loss: 0.253335\n",
      "Test Error: Accuracy: 84.2%, Avg loss: 0.243620\n",
      "Epoch 4-------------------------------\n",
      "Accuracy: 84.3%, Avg loss: 0.232160\n",
      "Test Error: Accuracy: 85.5%, Avg loss: 0.227482\n",
      "6.954秒\n",
      "\n",
      "batchsize:4\n",
      "Epoch 1-------------------------------\n",
      "Accuracy: 76.6%, Avg loss: 0.230354\n",
      "Test Error: Accuracy: 77.7%, Avg loss: 0.187229\n",
      "Epoch 2-------------------------------\n",
      "Accuracy: 77.7%, Avg loss: 0.171040\n",
      "Test Error: Accuracy: 78.3%, Avg loss: 0.159367\n",
      "Epoch 3-------------------------------\n",
      "Accuracy: 78.6%, Avg loss: 0.150667\n",
      "Test Error: Accuracy: 80.2%, Avg loss: 0.144415\n",
      "Epoch 4-------------------------------\n",
      "Accuracy: 80.4%, Avg loss: 0.138237\n",
      "Test Error: Accuracy: 81.7%, Avg loss: 0.134502\n",
      "4.247秒\n",
      "\n",
      "batchsize:8\n",
      "Epoch 1-------------------------------\n",
      "Accuracy: 74.2%, Avg loss: 0.131277\n",
      "Test Error: Accuracy: 77.4%, Avg loss: 0.109629\n",
      "Epoch 2-------------------------------\n",
      "Accuracy: 77.3%, Avg loss: 0.100567\n",
      "Test Error: Accuracy: 77.7%, Avg loss: 0.093968\n",
      "Epoch 3-------------------------------\n",
      "Accuracy: 77.6%, Avg loss: 0.089196\n",
      "Test Error: Accuracy: 77.7%, Avg loss: 0.085539\n",
      "Epoch 4-------------------------------\n",
      "Accuracy: 77.9%, Avg loss: 0.082272\n",
      "Test Error: Accuracy: 78.3%, Avg loss: 0.079874\n",
      "2.098秒\n",
      "\n",
      "batchsize:16\n",
      "Epoch 1-------------------------------\n",
      "Accuracy: 72.2%, Avg loss: 0.072042\n",
      "Test Error: Accuracy: 77.4%, Avg loss: 0.063468\n",
      "Epoch 2-------------------------------\n",
      "Accuracy: 77.2%, Avg loss: 0.058382\n",
      "Test Error: Accuracy: 77.4%, Avg loss: 0.055110\n",
      "Epoch 3-------------------------------\n",
      "Accuracy: 77.4%, Avg loss: 0.052237\n",
      "Test Error: Accuracy: 77.7%, Avg loss: 0.050480\n",
      "Epoch 4-------------------------------\n",
      "Accuracy: 77.4%, Avg loss: 0.048457\n",
      "Test Error: Accuracy: 77.7%, Avg loss: 0.047345\n",
      "1.492秒\n",
      "\n",
      "batchsize:32\n",
      "Epoch 1-------------------------------\n",
      "Accuracy: 71.1%, Avg loss: 0.038867\n",
      "Test Error: Accuracy: 77.4%, Avg loss: 0.035615\n",
      "Epoch 2-------------------------------\n",
      "Accuracy: 77.2%, Avg loss: 0.033259\n",
      "Test Error: Accuracy: 77.7%, Avg loss: 0.031588\n",
      "Epoch 3-------------------------------\n",
      "Accuracy: 77.3%, Avg loss: 0.030117\n",
      "Test Error: Accuracy: 77.7%, Avg loss: 0.029116\n",
      "Epoch 4-------------------------------\n",
      "Accuracy: 77.3%, Avg loss: 0.028072\n",
      "Test Error: Accuracy: 77.8%, Avg loss: 0.027400\n",
      "0.788秒\n",
      "\n",
      "batchsize:64\n",
      "Epoch 1-------------------------------\n",
      "Accuracy: 57.5%, Avg loss: 0.020640\n",
      "Test Error: Accuracy: 74.3%, Avg loss: 0.019643\n",
      "Epoch 2-------------------------------\n",
      "Accuracy: 76.1%, Avg loss: 0.018680\n",
      "Test Error: Accuracy: 77.2%, Avg loss: 0.018013\n",
      "Epoch 3-------------------------------\n",
      "Accuracy: 77.2%, Avg loss: 0.017302\n",
      "Test Error: Accuracy: 77.7%, Avg loss: 0.016835\n",
      "Epoch 4-------------------------------\n",
      "Accuracy: 77.4%, Avg loss: 0.016283\n",
      "Test Error: Accuracy: 77.6%, Avg loss: 0.015943\n",
      "0.622秒\n",
      "\n",
      "batchsize:128\n",
      "Epoch 1-------------------------------\n",
      "Accuracy: 48.0%, Avg loss: 0.010686\n",
      "Test Error: Accuracy: 68.4%, Avg loss: 0.010868\n",
      "Epoch 2-------------------------------\n",
      "Accuracy: 73.7%, Avg loss: 0.010078\n",
      "Test Error: Accuracy: 75.2%, Avg loss: 0.010294\n",
      "Epoch 3-------------------------------\n",
      "Accuracy: 76.3%, Avg loss: 0.009583\n",
      "Test Error: Accuracy: 76.5%, Avg loss: 0.009822\n",
      "Epoch 4-------------------------------\n",
      "Accuracy: 77.1%, Avg loss: 0.009174\n",
      "Test Error: Accuracy: 77.3%, Avg loss: 0.009427\n",
      "0.423秒\n",
      "\n",
      "Done!\n"
     ]
    }
   ],
   "source": [
    "from time import time\n",
    "batchsize = [1,2,4,8,16,32,64,128]\n",
    "\n",
    "for b in batchsize:\n",
    "    print(f'batchsize:{b}')\n",
    "    train_loader = DataLoader(traindata,batch_size=b, shuffle=True)\n",
    "    test_loader = DataLoader(testdata,batch_size=b, shuffle=False)\n",
    "    \n",
    "    model = NeuralNetwork(300,4)\n",
    "    loss = nn.CrossEntropyLoss()\n",
    "    optimizer = torch.optim.SGD(model.parameters(),lr = 0.01)\n",
    "    \n",
    "    epochs = 4\n",
    "    start = time()\n",
    "    for t in range(epochs):\n",
    "        print(f\"Epoch {t+1}-------------------------------\")\n",
    "        train_loop(train_loader, model, loss_fn, optimizer)\n",
    "        test_loop(test_loader, model, loss_fn)\n",
    "    print(f'{(time()-start):>0.3f}秒\\n')\n",
    "print(\"Done!\")"
   ]
  },
  {
   "cell_type": "markdown",
   "id": "3681e4f1",
   "metadata": {},
   "source": [
    "# 78.GPU上での学習"
   ]
  },
  {
   "cell_type": "code",
   "execution_count": 196,
   "id": "6bc6dca1",
   "metadata": {},
   "outputs": [],
   "source": [
    "def train_loop(dataloader,model,loss_fn,optimizer,device):\n",
    "    size = len(dataloader.dataset)\n",
    "    train_loss, correct = 0, 0\n",
    "    \n",
    "    model.to(device)\n",
    "    \n",
    "    for batch, (X,y) in enumerate(dataloader):\n",
    "        X,y = X.to(device), y.to(device)\n",
    "        pred = model(X)\n",
    "        loss = loss_fn(pred,y.type(torch.long))\n",
    "        \n",
    "        #back\n",
    "        optimizer.zero_grad()\n",
    "        loss.backward()\n",
    "        optimizer.step()\n",
    "        \n",
    "        train_loss += loss.item()\n",
    "        correct += (pred.argmax(1) == y.type(torch.long)).type(torch.float).sum().item()\n",
    "            \n",
    "    \n",
    "        \n",
    "\n",
    "    train_loss /= size\n",
    "    correct /= size\n",
    "    print(f\"Accuracy: {(100*correct):>0.1f}%, Avg loss: {train_loss:>8f}\")\n",
    "    \n",
    "    return 100*correct, train_loss\n",
    "\n",
    "def test_loop(dataloader, model, loss_fn,device):\n",
    "    size = len(dataloader.dataset)\n",
    "    test_loss, correct = 0, 0\n",
    "    \n",
    "    model.to(device)\n",
    "\n",
    "    with torch.no_grad():\n",
    "        for (X, y) in dataloader:\n",
    "            X,y = X.to(device), y.to(device)\n",
    "            pred = model(X)\n",
    "            test_loss += loss_fn(pred, y.type(torch.long)).item()\n",
    "            correct += (pred.argmax(1) == y.type(torch.long)).type(torch.float).sum().item()\n",
    "            \n",
    "    test_loss /= size\n",
    "    correct /= size\n",
    "    print(f\"Test Error:Accuracy: {(100*correct):>0.1f}%, Avg loss: {test_loss:>8f}\")\n",
    "    \n",
    "    return 100*correct, test_loss"
   ]
  },
  {
   "cell_type": "code",
   "execution_count": 200,
   "id": "c2a143d9",
   "metadata": {},
   "outputs": [
    {
     "name": "stdout",
     "output_type": "stream",
     "text": [
      "batchsize:1\n",
      "Epoch 1-------------------------------\n",
      "Accuracy: 78.5%, Avg loss: 0.598281\n",
      "Test Error:Accuracy: 85.2%, Avg loss: 0.421502\n",
      "Epoch 2-------------------------------\n",
      "Accuracy: 87.5%, Avg loss: 0.364173\n",
      "Test Error:Accuracy: 88.2%, Avg loss: 0.348142\n",
      "Epoch 3-------------------------------\n",
      "Accuracy: 89.0%, Avg loss: 0.319441\n",
      "Test Error:Accuracy: 88.1%, Avg loss: 0.344102\n",
      "Epoch 4-------------------------------\n",
      "Accuracy: 89.4%, Avg loss: 0.300552\n",
      "Test Error:Accuracy: 87.8%, Avg loss: 0.338687\n",
      "32.628秒\n",
      "\n",
      "batchsize:2\n",
      "Epoch 1-------------------------------\n",
      "Accuracy: 75.2%, Avg loss: 0.359013\n",
      "Test Error:Accuracy: 80.2%, Avg loss: 0.260794\n",
      "Epoch 2-------------------------------\n",
      "Accuracy: 84.0%, Avg loss: 0.224976\n",
      "Test Error:Accuracy: 87.3%, Avg loss: 0.201241\n",
      "Epoch 3-------------------------------\n",
      "Accuracy: 87.7%, Avg loss: 0.182904\n",
      "Test Error:Accuracy: 88.0%, Avg loss: 0.182683\n",
      "Epoch 4-------------------------------\n",
      "Accuracy: 88.8%, Avg loss: 0.164345\n",
      "Test Error:Accuracy: 88.1%, Avg loss: 0.174387\n",
      "16.803秒\n",
      "\n",
      "batchsize:4\n",
      "Epoch 1-------------------------------\n"
     ]
    },
    {
     "ename": "KeyboardInterrupt",
     "evalue": "",
     "output_type": "error",
     "traceback": [
      "\u001b[0;31m---------------------------------------------------------------------------\u001b[0m",
      "\u001b[0;31mKeyboardInterrupt\u001b[0m                         Traceback (most recent call last)",
      "\u001b[0;32m<ipython-input-200-ffae9154fe27>\u001b[0m in \u001b[0;36m<module>\u001b[0;34m\u001b[0m\n\u001b[1;32m     16\u001b[0m     \u001b[0;32mfor\u001b[0m \u001b[0mt\u001b[0m \u001b[0;32min\u001b[0m \u001b[0mrange\u001b[0m\u001b[0;34m(\u001b[0m\u001b[0mepochs\u001b[0m\u001b[0;34m)\u001b[0m\u001b[0;34m:\u001b[0m\u001b[0;34m\u001b[0m\u001b[0;34m\u001b[0m\u001b[0m\n\u001b[1;32m     17\u001b[0m         \u001b[0mprint\u001b[0m\u001b[0;34m(\u001b[0m\u001b[0;34mf\"Epoch {t+1}-------------------------------\"\u001b[0m\u001b[0;34m)\u001b[0m\u001b[0;34m\u001b[0m\u001b[0;34m\u001b[0m\u001b[0m\n\u001b[0;32m---> 18\u001b[0;31m         \u001b[0mtrain_loop\u001b[0m\u001b[0;34m(\u001b[0m\u001b[0mtrain_loader\u001b[0m\u001b[0;34m,\u001b[0m \u001b[0mmodel\u001b[0m\u001b[0;34m,\u001b[0m \u001b[0mloss_fn\u001b[0m\u001b[0;34m,\u001b[0m \u001b[0moptimizer\u001b[0m\u001b[0;34m,\u001b[0m\u001b[0mdevice\u001b[0m\u001b[0;34m)\u001b[0m\u001b[0;34m\u001b[0m\u001b[0;34m\u001b[0m\u001b[0m\n\u001b[0m\u001b[1;32m     19\u001b[0m         \u001b[0mtest_loop\u001b[0m\u001b[0;34m(\u001b[0m\u001b[0mtest_loader\u001b[0m\u001b[0;34m,\u001b[0m \u001b[0mmodel\u001b[0m\u001b[0;34m,\u001b[0m \u001b[0mloss_fn\u001b[0m\u001b[0;34m,\u001b[0m \u001b[0mdevice\u001b[0m\u001b[0;34m)\u001b[0m\u001b[0;34m\u001b[0m\u001b[0;34m\u001b[0m\u001b[0m\n\u001b[1;32m     20\u001b[0m     \u001b[0mprint\u001b[0m\u001b[0;34m(\u001b[0m\u001b[0;34mf'{(time()-start):>0.3f}秒\\n'\u001b[0m\u001b[0;34m)\u001b[0m\u001b[0;34m\u001b[0m\u001b[0;34m\u001b[0m\u001b[0m\n",
      "\u001b[0;32m<ipython-input-196-9765983e8c76>\u001b[0m in \u001b[0;36mtrain_loop\u001b[0;34m(dataloader, model, loss_fn, optimizer, device)\u001b[0m\n\u001b[1;32m     11\u001b[0m \u001b[0;34m\u001b[0m\u001b[0m\n\u001b[1;32m     12\u001b[0m         \u001b[0;31m#back\u001b[0m\u001b[0;34m\u001b[0m\u001b[0;34m\u001b[0m\u001b[0;34m\u001b[0m\u001b[0m\n\u001b[0;32m---> 13\u001b[0;31m         \u001b[0moptimizer\u001b[0m\u001b[0;34m.\u001b[0m\u001b[0mzero_grad\u001b[0m\u001b[0;34m(\u001b[0m\u001b[0;34m)\u001b[0m\u001b[0;34m\u001b[0m\u001b[0;34m\u001b[0m\u001b[0m\n\u001b[0m\u001b[1;32m     14\u001b[0m         \u001b[0mloss\u001b[0m\u001b[0;34m.\u001b[0m\u001b[0mbackward\u001b[0m\u001b[0;34m(\u001b[0m\u001b[0;34m)\u001b[0m\u001b[0;34m\u001b[0m\u001b[0;34m\u001b[0m\u001b[0m\n\u001b[1;32m     15\u001b[0m         \u001b[0moptimizer\u001b[0m\u001b[0;34m.\u001b[0m\u001b[0mstep\u001b[0m\u001b[0;34m(\u001b[0m\u001b[0;34m)\u001b[0m\u001b[0;34m\u001b[0m\u001b[0;34m\u001b[0m\u001b[0m\n",
      "\u001b[0;32m~/.pyenv/versions/3.9.4/lib/python3.9/site-packages/torch/optim/optimizer.py\u001b[0m in \u001b[0;36mzero_grad\u001b[0;34m(self, set_to_none)\u001b[0m\n\u001b[1;32m    204\u001b[0m         \u001b[0;32mif\u001b[0m \u001b[0;32mnot\u001b[0m \u001b[0mhasattr\u001b[0m\u001b[0;34m(\u001b[0m\u001b[0mself\u001b[0m\u001b[0;34m,\u001b[0m \u001b[0;34m\"_zero_grad_profile_name\"\u001b[0m\u001b[0;34m)\u001b[0m\u001b[0;34m:\u001b[0m\u001b[0;34m\u001b[0m\u001b[0;34m\u001b[0m\u001b[0m\n\u001b[1;32m    205\u001b[0m             \u001b[0mself\u001b[0m\u001b[0;34m.\u001b[0m\u001b[0m_hook_for_profile\u001b[0m\u001b[0;34m(\u001b[0m\u001b[0;34m)\u001b[0m\u001b[0;34m\u001b[0m\u001b[0;34m\u001b[0m\u001b[0m\n\u001b[0;32m--> 206\u001b[0;31m         \u001b[0;32mwith\u001b[0m \u001b[0mtorch\u001b[0m\u001b[0;34m.\u001b[0m\u001b[0mautograd\u001b[0m\u001b[0;34m.\u001b[0m\u001b[0mprofiler\u001b[0m\u001b[0;34m.\u001b[0m\u001b[0mrecord_function\u001b[0m\u001b[0;34m(\u001b[0m\u001b[0mself\u001b[0m\u001b[0;34m.\u001b[0m\u001b[0m_zero_grad_profile_name\u001b[0m\u001b[0;34m)\u001b[0m\u001b[0;34m:\u001b[0m\u001b[0;34m\u001b[0m\u001b[0;34m\u001b[0m\u001b[0m\n\u001b[0m\u001b[1;32m    207\u001b[0m             \u001b[0;32mfor\u001b[0m \u001b[0mgroup\u001b[0m \u001b[0;32min\u001b[0m \u001b[0mself\u001b[0m\u001b[0;34m.\u001b[0m\u001b[0mparam_groups\u001b[0m\u001b[0;34m:\u001b[0m\u001b[0;34m\u001b[0m\u001b[0;34m\u001b[0m\u001b[0m\n\u001b[1;32m    208\u001b[0m                 \u001b[0;32mfor\u001b[0m \u001b[0mp\u001b[0m \u001b[0;32min\u001b[0m \u001b[0mgroup\u001b[0m\u001b[0;34m[\u001b[0m\u001b[0;34m'params'\u001b[0m\u001b[0;34m]\u001b[0m\u001b[0;34m:\u001b[0m\u001b[0;34m\u001b[0m\u001b[0;34m\u001b[0m\u001b[0m\n",
      "\u001b[0;32m~/.pyenv/versions/3.9.4/lib/python3.9/site-packages/torch/autograd/profiler.py\u001b[0m in \u001b[0;36m__enter__\u001b[0;34m(self)\u001b[0m\n\u001b[1;32m    614\u001b[0m \u001b[0;34m\u001b[0m\u001b[0m\n\u001b[1;32m    615\u001b[0m     \u001b[0;32mdef\u001b[0m \u001b[0m__enter__\u001b[0m\u001b[0;34m(\u001b[0m\u001b[0mself\u001b[0m\u001b[0;34m)\u001b[0m\u001b[0;34m:\u001b[0m\u001b[0;34m\u001b[0m\u001b[0;34m\u001b[0m\u001b[0m\n\u001b[0;32m--> 616\u001b[0;31m         \u001b[0mself\u001b[0m\u001b[0;34m.\u001b[0m\u001b[0mhandle\u001b[0m \u001b[0;34m=\u001b[0m \u001b[0mtorch\u001b[0m\u001b[0;34m.\u001b[0m\u001b[0mops\u001b[0m\u001b[0;34m.\u001b[0m\u001b[0mprofiler\u001b[0m\u001b[0;34m.\u001b[0m\u001b[0m_record_function_enter\u001b[0m\u001b[0;34m(\u001b[0m\u001b[0mself\u001b[0m\u001b[0;34m.\u001b[0m\u001b[0mname\u001b[0m\u001b[0;34m)\u001b[0m\u001b[0;34m\u001b[0m\u001b[0;34m\u001b[0m\u001b[0m\n\u001b[0m\u001b[1;32m    617\u001b[0m         \u001b[0;32mreturn\u001b[0m \u001b[0mself\u001b[0m\u001b[0;34m\u001b[0m\u001b[0;34m\u001b[0m\u001b[0m\n\u001b[1;32m    618\u001b[0m \u001b[0;34m\u001b[0m\u001b[0m\n",
      "\u001b[0;31mKeyboardInterrupt\u001b[0m: "
     ]
    }
   ],
   "source": [
    "device = torch.device('')\n",
    "\n",
    "batchsize = [1,2,4,8,16,32,64,128]\n",
    "\n",
    "for b in batchsize:\n",
    "    print(f'batchsize:{b}')\n",
    "    train_loader = DataLoader(traindata,batch_size=b, shuffle=True)\n",
    "    test_loader = DataLoader(testdata,batch_size=b, shuffle=False)\n",
    "    \n",
    "    model = NeuralNetwork(300,4)\n",
    "    loss = nn.CrossEntropyLoss()\n",
    "    optimizer = torch.optim.SGD(model.parameters(),lr = 0.01)\n",
    "    \n",
    "    epochs = 4\n",
    "    start = time()\n",
    "    for t in range(epochs):\n",
    "        print(f\"Epoch {t+1}-------------------------------\")\n",
    "        train_loop(train_loader, model, loss_fn, optimizer,device)\n",
    "        test_loop(test_loader, model, loss_fn, device)\n",
    "    print(f'{(time()-start):>0.3f}秒\\n')\n",
    "print(\"Done!\")\n",
    "\n",
    "#  colab\n",
    "\n",
    "# batchsize:1\n",
    "# Epoch 1-------------------------------\n",
    "# Accuracy: 78.0%, Avg loss: 0.694822\n",
    "# Test Error:Accuracy: 81.9%, Avg loss: 0.540298\n",
    "# Epoch 2-------------------------------\n",
    "# Accuracy: 83.5%, Avg loss: 0.486402\n",
    "# Test Error:Accuracy: 84.8%, Avg loss: 0.455016\n",
    "# Epoch 3-------------------------------\n",
    "# Accuracy: 85.6%, Avg loss: 0.427068\n",
    "# Test Error:Accuracy: 87.0%, Avg loss: 0.417441\n",
    "# Epoch 4-------------------------------\n",
    "# Accuracy: 87.0%, Avg loss: 0.395632\n",
    "# Test Error:Accuracy: 87.1%, Avg loss: 0.395601\n",
    "# 32.598秒\n",
    "\n",
    "# batchsize:2\n",
    "# Epoch 1-------------------------------\n",
    "# Accuracy: 76.6%, Avg loss: 0.404370\n",
    "# Test Error:Accuracy: 78.6%, Avg loss: 0.319764\n",
    "# Epoch 2-------------------------------\n",
    "# Accuracy: 79.7%, Avg loss: 0.290735\n",
    "# Test Error:Accuracy: 81.4%, Avg loss: 0.269203\n",
    "# Epoch 3-------------------------------\n",
    "# Accuracy: 82.6%, Avg loss: 0.253950\n",
    "# Test Error:Accuracy: 84.0%, Avg loss: 0.243457\n",
    "# Epoch 4-------------------------------\n",
    "# Accuracy: 84.2%, Avg loss: 0.232636\n",
    "# Test Error:Accuracy: 85.9%, Avg loss: 0.227552\n",
    "# 16.437秒\n",
    "\n",
    "# batchsize:4\n",
    "# Epoch 1-------------------------------\n",
    "# Accuracy: 76.2%, Avg loss: 0.231084\n",
    "# Test Error:Accuracy: 77.8%, Avg loss: 0.187377\n",
    "# Epoch 2-------------------------------\n",
    "# Accuracy: 77.7%, Avg loss: 0.171390\n",
    "# Test Error:Accuracy: 78.3%, Avg loss: 0.159521\n",
    "# Epoch 3-------------------------------\n",
    "# Accuracy: 78.7%, Avg loss: 0.150942\n",
    "# Test Error:Accuracy: 80.1%, Avg loss: 0.144527\n",
    "# Epoch 4-------------------------------\n",
    "# Accuracy: 80.6%, Avg loss: 0.138523\n",
    "# Test Error:Accuracy: 81.6%, Avg loss: 0.134473\n",
    "# 8.336秒\n",
    "\n",
    "# batchsize:8\n",
    "# Epoch 1-------------------------------\n",
    "# Accuracy: 72.9%, Avg loss: 0.131729\n",
    "# Test Error:Accuracy: 77.6%, Avg loss: 0.109835\n",
    "# Epoch 2-------------------------------\n",
    "# Accuracy: 77.4%, Avg loss: 0.100984\n",
    "# Test Error:Accuracy: 77.6%, Avg loss: 0.094283\n",
    "# Epoch 3-------------------------------\n",
    "# Accuracy: 77.6%, Avg loss: 0.089612\n",
    "# Test Error:Accuracy: 77.9%, Avg loss: 0.085854\n",
    "# Epoch 4-------------------------------\n",
    "# Accuracy: 77.8%, Avg loss: 0.082651\n",
    "# Test Error:Accuracy: 78.3%, Avg loss: 0.080166\n",
    "# 4.289秒\n",
    "\n",
    "# batchsize:16\n",
    "# Epoch 1-------------------------------\n",
    "# Accuracy: 72.5%, Avg loss: 0.072394\n",
    "# Test Error:Accuracy: 76.9%, Avg loss: 0.063597\n",
    "# Epoch 2-------------------------------\n",
    "# Accuracy: 77.2%, Avg loss: 0.058390\n",
    "# Test Error:Accuracy: 77.1%, Avg loss: 0.055134\n",
    "# Epoch 3-------------------------------\n",
    "# Accuracy: 77.3%, Avg loss: 0.052183\n",
    "# Test Error:Accuracy: 77.3%, Avg loss: 0.050476\n",
    "# Epoch 4-------------------------------\n",
    "# Accuracy: 77.4%, Avg loss: 0.048389\n",
    "# Test Error:Accuracy: 77.7%, Avg loss: 0.047341\n",
    "# 2.253秒\n",
    "\n",
    "# batchsize:32\n",
    "# Epoch 1-------------------------------\n",
    "# Accuracy: 67.6%, Avg loss: 0.039162\n",
    "# Test Error:Accuracy: 75.9%, Avg loss: 0.035941\n",
    "# Epoch 2-------------------------------\n",
    "# Accuracy: 77.1%, Avg loss: 0.033524\n",
    "# Test Error:Accuracy: 76.8%, Avg loss: 0.031872\n",
    "# Epoch 3-------------------------------\n",
    "# Accuracy: 77.4%, Avg loss: 0.030332\n",
    "# Test Error:Accuracy: 77.1%, Avg loss: 0.029351\n",
    "# Epoch 4-------------------------------\n",
    "# Accuracy: 77.4%, Avg loss: 0.028244\n",
    "# Test Error:Accuracy: 77.1%, Avg loss: 0.027602\n",
    "# 1.263秒\n",
    "\n",
    "# batchsize:64\n",
    "# Epoch 1-------------------------------\n",
    "# Accuracy: 57.7%, Avg loss: 0.020734\n",
    "# Test Error:Accuracy: 75.1%, Avg loss: 0.019721\n",
    "# Epoch 2-------------------------------\n",
    "# Accuracy: 76.5%, Avg loss: 0.018727\n",
    "# Test Error:Accuracy: 77.3%, Avg loss: 0.018060\n",
    "# Epoch 3-------------------------------\n",
    "# Accuracy: 77.3%, Avg loss: 0.017325\n",
    "# Test Error:Accuracy: 77.3%, Avg loss: 0.016865\n",
    "# Epoch 4-------------------------------\n",
    "# Accuracy: 77.4%, Avg loss: 0.016292\n",
    "# Test Error:Accuracy: 77.4%, Avg loss: 0.015962\n",
    "# 0.762秒\n",
    "\n",
    "# batchsize:128\n",
    "# Epoch 1-------------------------------\n",
    "# Accuracy: 53.4%, Avg loss: 0.010580\n",
    "# Test Error:Accuracy: 69.3%, Avg loss: 0.010743\n",
    "# Epoch 2-------------------------------\n",
    "# Accuracy: 73.2%, Avg loss: 0.009989\n",
    "# Test Error:Accuracy: 74.0%, Avg loss: 0.010182\n",
    "# Epoch 3-------------------------------\n",
    "# Accuracy: 75.5%, Avg loss: 0.009505\n",
    "# Test Error:Accuracy: 75.8%, Avg loss: 0.009721\n",
    "# Epoch 4-------------------------------\n",
    "# Accuracy: 76.3%, Avg loss: 0.009102\n",
    "# Test Error:Accuracy: 76.3%, Avg loss: 0.009335\n",
    "# 0.482秒\n",
    "\n",
    "# Done!"
   ]
  },
  {
   "cell_type": "markdown",
   "id": "099c8866",
   "metadata": {},
   "source": [
    "# 79. 多層ニューラルネットワーク"
   ]
  },
  {
   "cell_type": "code",
   "execution_count": 201,
   "id": "e6b0a605",
   "metadata": {},
   "outputs": [],
   "source": [
    "class NeuralNetwork(nn.Module):\n",
    "    def __init__(self,input_size,output_size):\n",
    "        super().__init__()\n",
    "        self.fc1 = nn.Linear(input_size, 128)\n",
    "        self.act = nn.ReLU()\n",
    "        self.fc2 = nn.Linear(128, output_size)\n",
    "        self.dropout = nn.Dropout(0.2)\n",
    "        \n",
    "    def forward(self, x):\n",
    "        x = self.fc1(x)\n",
    "        x = self.act(x)\n",
    "        x = self.dropout(x)\n",
    "        x = self.fc2(x)\n",
    "        return x"
   ]
  },
  {
   "cell_type": "code",
   "execution_count": 203,
   "id": "745004b5",
   "metadata": {},
   "outputs": [
    {
     "name": "stdout",
     "output_type": "stream",
     "text": [
      "Epoch 1-------------------------------\n",
      "Accuracy: 71.6%, Avg loss: 0.222382\n",
      "Test Error:Accuracy: 78.0%, Avg loss: 0.158444\n",
      "Epoch 2-------------------------------\n",
      "Accuracy: 78.5%, Avg loss: 0.142434\n",
      "Test Error:Accuracy: 79.7%, Avg loss: 0.131771\n",
      "Epoch 3-------------------------------\n",
      "Accuracy: 81.7%, Avg loss: 0.121888\n",
      "Test Error:Accuracy: 84.3%, Avg loss: 0.115818\n",
      "Epoch 4-------------------------------\n",
      "Accuracy: 85.3%, Avg loss: 0.106301\n",
      "Test Error:Accuracy: 87.2%, Avg loss: 0.101359\n",
      "Epoch 5-------------------------------\n",
      "Accuracy: 87.2%, Avg loss: 0.095169\n",
      "Test Error:Accuracy: 87.2%, Avg loss: 0.096694\n",
      "Epoch 6-------------------------------\n",
      "Accuracy: 88.2%, Avg loss: 0.087945\n",
      "Test Error:Accuracy: 87.6%, Avg loss: 0.090208\n",
      "Epoch 7-------------------------------\n",
      "Accuracy: 88.6%, Avg loss: 0.083070\n",
      "Test Error:Accuracy: 87.9%, Avg loss: 0.086757\n",
      "Epoch 8-------------------------------\n",
      "Accuracy: 89.1%, Avg loss: 0.079863\n",
      "Test Error:Accuracy: 88.5%, Avg loss: 0.085139\n",
      "Epoch 9-------------------------------\n",
      "Accuracy: 89.2%, Avg loss: 0.078023\n",
      "Test Error:Accuracy: 88.3%, Avg loss: 0.084554\n",
      "Epoch 10-------------------------------\n",
      "Accuracy: 89.6%, Avg loss: 0.076035\n",
      "Test Error:Accuracy: 88.2%, Avg loss: 0.083612\n",
      "Done!\n"
     ]
    }
   ],
   "source": [
    "model = NeuralNetwork(300,4)\n",
    "loss = nn.CrossEntropyLoss()\n",
    "optimizer = torch.optim.SGD(model.parameters(),lr = 0.01)\n",
    "\n",
    "train_res = []\n",
    "valid_res = []\n",
    "\n",
    "epochs = 10\n",
    "for t in range(epochs):\n",
    "    print(f\"Epoch {t+1}-------------------------------\")\n",
    "    train_acc, train_loss = train_loop(train_loader, model, loss_fn, optimizer,device)\n",
    "    valid_acc, valid_loss = test_loop(test_loader, model, loss_fn,device)\n",
    "    train_res.append((train_acc,train_loss))\n",
    "    valid_res.append((valid_acc,valid_loss))\n",
    "print(\"Done!\")"
   ]
  },
  {
   "cell_type": "code",
   "execution_count": 206,
   "id": "e43923a8",
   "metadata": {},
   "outputs": [
    {
     "data": {
      "text/plain": [
       "<matplotlib.legend.Legend at 0x11c15f820>"
      ]
     },
     "execution_count": 206,
     "metadata": {},
     "output_type": "execute_result"
    },
    {
     "data": {
      "image/png": "[encoded data removed]",
      "text/plain": [
       "<Figure size 1008x360 with 2 Axes>"
      ]
     },
     "metadata": {
      "needs_background": "light"
     },
     "output_type": "display_data"
    }
   ],
   "source": [
    "train_acc = [i[0] for i in train_res]\n",
    "train_loss= [i[1] for i in train_res]\n",
    "valid_acc = [i[0] for i in valid_res]\n",
    "valid_loss = [i[1] for i in valid_res]\n",
    "\n",
    "\n",
    "fig,ax = plt.subplots(1,2,figsize=(14,5))\n",
    "\n",
    "ax[0].plot(train_acc, label='train')\n",
    "ax[0].plot(valid_acc, label='valid')\n",
    "ax[1].plot(train_loss, label='train')\n",
    "ax[1].plot(valid_loss, label='valid')\n",
    "ax[0].legend()\n",
    "ax[1].legend()"
   ]
  },
  {
   "cell_type": "code",
   "execution_count": null,
   "id": "69183c61",
   "metadata": {},
   "outputs": [],
   "source": []
  },
  {
   "cell_type": "code",
   "execution_count": null,
   "id": "94cbcf94",
   "metadata": {},
   "outputs": [],
   "source": []
  }
 ],
 "metadata": {
  "kernelspec": {
   "display_name": "Python 3",
   "language": "python",
   "name": "python3"
  },
  "language_info": {
   "codemirror_mode": {
    "name": "ipython",
    "version": 3
   },
   "file_extension": ".py",
   "mimetype": "text/x-python",
   "name": "python",
   "nbconvert_exporter": "python",
   "pygments_lexer": "ipython3",
   "version": "3.9.4"
  }
 },
 "nbformat": 4,
 "nbformat_minor": 5
}

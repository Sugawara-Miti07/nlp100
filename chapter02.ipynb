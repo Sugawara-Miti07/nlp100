{
 "cells": [
  {
   "cell_type": "code",
   "execution_count": 2,
   "id": "c6d70d31",
   "metadata": {},
   "outputs": [],
   "source": [
    "txtfile = 'popular-names.txt'"
   ]
  },
  {
   "cell_type": "markdown",
   "id": "bbee3411",
   "metadata": {},
   "source": [
    "# 10.行数のカウント"
   ]
  },
  {
   "cell_type": "code",
   "execution_count": 3,
   "id": "8de79a6b",
   "metadata": {},
   "outputs": [
    {
     "name": "stdout",
     "output_type": "stream",
     "text": [
      "2780\n"
     ]
    }
   ],
   "source": [
    "count = 0\n",
    "\n",
    "with open(txtfile) as f:\n",
    "    for line in f:\n",
    "        count += 1\n",
    "print(count)"
   ]
  },
  {
   "cell_type": "code",
   "execution_count": 158,
   "id": "12a40dcd",
   "metadata": {},
   "outputs": [
    {
     "name": "stdout",
     "output_type": "stream",
     "text": [
      "    2780 popular-names.txt\r\n"
     ]
    }
   ],
   "source": [
    "!wc -l popular-names.txt"
   ]
  },
  {
   "cell_type": "markdown",
   "id": "a97f1e09",
   "metadata": {},
   "source": [
    "# 11.タブをスペースに変換"
   ]
  },
  {
   "cell_type": "code",
   "execution_count": 14,
   "id": "6825bbde",
   "metadata": {},
   "outputs": [
    {
     "data": {
      "text/plain": [
       "['Mary F 7065 1880\\n',\n",
       " 'Anna F 2604 1880\\n',\n",
       " 'Emma F 2003 1880\\n',\n",
       " 'Elizabeth F 1939 1880\\n',\n",
       " 'Minnie F 1746 1880\\n']"
      ]
     },
     "execution_count": 14,
     "metadata": {},
     "output_type": "execute_result"
    }
   ],
   "source": [
    "with open(txtfile) as f:\n",
    "    lines = f.readlines()\n",
    "    lines_replace = [item.replace(\"\\t\",\" \") for item in lines]\n",
    "lines_replace[:5]"
   ]
  },
  {
   "cell_type": "code",
   "execution_count": 159,
   "id": "4d2c3299",
   "metadata": {},
   "outputs": [
    {
     "name": "stdout",
     "output_type": "stream",
     "text": [
      "Mary F 7065 1880\r\n",
      "Anna F 2604 1880\r\n",
      "Emma F 2003 1880\r\n",
      "Elizabeth F 1939 1880\r\n",
      "Minnie F 1746 1880\r\n"
     ]
    }
   ],
   "source": [
    "!cat popular-names.txt | tr '\\t' ' ' | head -n 5"
   ]
  },
  {
   "cell_type": "markdown",
   "id": "b918d872",
   "metadata": {},
   "source": [
    "# 12. 1列目をcol1.txtに、2列目をcol2.txtに保存"
   ]
  },
  {
   "cell_type": "code",
   "execution_count": 27,
   "id": "74b49463",
   "metadata": {},
   "outputs": [],
   "source": [
    "with open('col1.txt','w') as w1, open('col2.txt','w') as w2:    \n",
    "    with open(txtfile) as f:     \n",
    "        for line in f:\n",
    "            w1.write(line.split('\\t')[0] + '\\n')\n",
    "            w2.write(line.split('\\t')[1] + '\\n')"
   ]
  },
  {
   "cell_type": "code",
   "execution_count": 28,
   "id": "cf0a03fe",
   "metadata": {},
   "outputs": [],
   "source": [
    "!cat popular-names.txt | cut -f 1 > col1.txt\n",
    "!cat popular-names.txt | cut -f 2 > col2.txt"
   ]
  },
  {
   "cell_type": "markdown",
   "id": "e25b2eec",
   "metadata": {},
   "source": [
    "# 13. col1.txtとcol2.txtをマージ"
   ]
  },
  {
   "cell_type": "code",
   "execution_count": 36,
   "id": "c165f180",
   "metadata": {},
   "outputs": [],
   "source": [
    "with open('col1.txt') as f1, open('col2.txt') as f2:\n",
    "        with open('merge','w') as s:\n",
    "            for l1 , l2 in zip(f1,f2):\n",
    "                s.write(l1.split()[0] + '\\t' + l2.split()[0]  + '\\n')"
   ]
  },
  {
   "cell_type": "code",
   "execution_count": 161,
   "id": "8b534f0c",
   "metadata": {},
   "outputs": [
    {
     "name": "stdout",
     "output_type": "stream",
     "text": [
      "Mary\tF\r\n",
      "Anna\tF\r\n",
      "Emma\tF\r\n",
      "Elizabeth\tF\r\n",
      "Minnie\tF\r\n"
     ]
    }
   ],
   "source": [
    "!paste col1.txt col2.txt | head -n 5"
   ]
  },
  {
   "cell_type": "markdown",
   "id": "6b7aa84b",
   "metadata": {},
   "source": [
    "# 14.先頭からN行を出力"
   ]
  },
  {
   "cell_type": "code",
   "execution_count": 39,
   "id": "11af8d50",
   "metadata": {},
   "outputs": [
    {
     "name": "stdout",
     "output_type": "stream",
     "text": [
      "4\n",
      "['Mary\\tF\\t7065\\t1880\\n', 'Anna\\tF\\t2604\\t1880\\n', 'Emma\\tF\\t2003\\t1880\\n', 'Elizabeth\\tF\\t1939\\t1880\\n']\n",
      "Mary\tF\t7065\t1880\n",
      "Anna\tF\t2604\t1880\n",
      "Emma\tF\t2003\t1880\n",
      "Elizabeth\tF\t1939\t1880\n",
      "\n"
     ]
    }
   ],
   "source": [
    "with open(txtfile) as f:\n",
    "    lines = f.readlines()\n",
    "    \n",
    "N = int(input())\n",
    "print(\"\".join(lines[:N]))"
   ]
  },
  {
   "cell_type": "code",
   "execution_count": 164,
   "id": "d8daee7c",
   "metadata": {},
   "outputs": [
    {
     "name": "stdout",
     "output_type": "stream",
     "text": [
      "Mary\tF\t7065\t1880\r\n",
      "Anna\tF\t2604\t1880\r\n",
      "Emma\tF\t2003\t1880\r\n",
      "Elizabeth\tF\t1939\t1880\r\n",
      "Minnie\tF\t1746\t1880\r\n"
     ]
    }
   ],
   "source": [
    "!head -n 5 popular-names.txt"
   ]
  },
  {
   "cell_type": "markdown",
   "id": "59080dc1",
   "metadata": {},
   "source": [
    "# 15.末尾のN行を出力"
   ]
  },
  {
   "cell_type": "code",
   "execution_count": 115,
   "id": "52ab460c",
   "metadata": {},
   "outputs": [
    {
     "name": "stdout",
     "output_type": "stream",
     "text": [
      "Benjamin\tM\t13381\t2018\n",
      "Elijah\tM\t12886\t2018\n",
      "Lucas\tM\t12585\t2018\n",
      "Mason\tM\t12435\t2018\n",
      "Logan\tM\t12352\t2018\n",
      "\n"
     ]
    }
   ],
   "source": [
    "print(\"\".join(lines[-N:]))"
   ]
  },
  {
   "cell_type": "code",
   "execution_count": 165,
   "id": "25feb280",
   "metadata": {},
   "outputs": [
    {
     "name": "stdout",
     "output_type": "stream",
     "text": [
      "Benjamin\tM\t13381\t2018\r\n",
      "Elijah\tM\t12886\t2018\r\n",
      "Lucas\tM\t12585\t2018\r\n",
      "Mason\tM\t12435\t2018\r\n",
      "Logan\tM\t12352\t2018\r\n"
     ]
    }
   ],
   "source": [
    "!tail -n 5 popular-names.txt"
   ]
  },
  {
   "cell_type": "markdown",
   "id": "16698d7e",
   "metadata": {},
   "source": [
    "# 16.ファイルをN分割する"
   ]
  },
  {
   "cell_type": "code",
   "execution_count": 42,
   "id": "54dbe3ac",
   "metadata": {},
   "outputs": [
    {
     "name": "stdout",
     "output_type": "stream",
     "text": [
      "5\n"
     ]
    }
   ],
   "source": [
    "with open(txtfile) as f:\n",
    "    lines = f.readlines()\n",
    "\n",
    "N = int(input())\n",
    "\n",
    "for i in range(N):\n",
    "    with open('output' + str(i), 'w') as w:\n",
    "        w.write(''.join(lines[i * int(len(lines) / N) : (i+1) * (int(len(lines) / N))]))"
   ]
  },
  {
   "cell_type": "code",
   "execution_count": 43,
   "id": "86ef62d4",
   "metadata": {},
   "outputs": [
    {
     "name": "stdout",
     "output_type": "stream",
     "text": [
      "split: illegal option -- n\r\n",
      "usage: split [-a sufflen] [-b byte_count] [-l line_count] [-p pattern]\r\n",
      "             [file [prefix]]\r\n"
     ]
    }
   ],
   "source": [
    "!split -n 5 popular-names.txt"
   ]
  },
  {
   "cell_type": "markdown",
   "id": "356662a6",
   "metadata": {},
   "source": [
    "# 17.1列目の文字列の異なり"
   ]
  },
  {
   "cell_type": "code",
   "execution_count": 50,
   "id": "e59cad64",
   "metadata": {},
   "outputs": [
    {
     "name": "stdout",
     "output_type": "stream",
     "text": [
      "136\n"
     ]
    }
   ],
   "source": [
    "with open(txtfile) as f:\n",
    "    lines = f.readlines()\n",
    "    line_name = [item.split('\\t')[0] for item in lines]\n",
    "\n",
    "print(len(set(line_name)))"
   ]
  },
  {
   "cell_type": "code",
   "execution_count": 168,
   "id": "4834f7de",
   "metadata": {},
   "outputs": [
    {
     "name": "stdout",
     "output_type": "stream",
     "text": [
      "Abigail\r\n",
      "Aiden\r\n",
      "Alexander\r\n",
      "Alexis\r\n",
      "Alice\r\n"
     ]
    }
   ],
   "source": [
    "!cat popular-names.txt | cut -f 1 | sort | uniq | head -n 5"
   ]
  },
  {
   "cell_type": "markdown",
   "id": "3d5144f3",
   "metadata": {},
   "source": [
    "# 18.各行を3コラム目の数値の降順にソート"
   ]
  },
  {
   "cell_type": "code",
   "execution_count": 54,
   "id": "31601afb",
   "metadata": {},
   "outputs": [
    {
     "name": "stdout",
     "output_type": "stream",
     "text": [
      "Linda\tF\t99689\t1947\n",
      "Linda\tF\t96211\t1948\n",
      "James\tM\t94757\t1947\n",
      "Michael\tM\t92704\t1957\n",
      "Robert\tM\t91640\t1947\n",
      "\n"
     ]
    }
   ],
   "source": [
    "with open(txtfile) as f:\n",
    "    lines = f.readlines()\n",
    "lines = sorted(lines, key=lambda x:-int(x.split('\\t')[2]))\n",
    "\n",
    "print(''.join(lines[:5]))"
   ]
  },
  {
   "cell_type": "code",
   "execution_count": 67,
   "id": "51e37d58",
   "metadata": {},
   "outputs": [
    {
     "name": "stdout",
     "output_type": "stream",
     "text": [
      "Linda\tF\t99689\t1947\r\n",
      "James\tM\t9951\t1911\r\n",
      "Mildred\tF\t9921\t1913\r\n",
      "Mary\tF\t9889\t1886\r\n",
      "Mary\tF\t9888\t1887\r\n",
      "sort: Broken pipe\r\n"
     ]
    }
   ],
   "source": [
    "!cat popular-names.txt | sort -r -k 3 | head -n 5"
   ]
  },
  {
   "cell_type": "markdown",
   "id": "c6f5734a",
   "metadata": {},
   "source": [
    "# 19.各行の1コラム目の文字列の出現頻度を求め、出現頻度の高い順に並べる"
   ]
  },
  {
   "cell_type": "code",
   "execution_count": 69,
   "id": "839d8b22",
   "metadata": {},
   "outputs": [
    {
     "data": {
      "text/plain": [
       "[('James', 118),\n",
       " ('William', 111),\n",
       " ('John', 108),\n",
       " ('Robert', 108),\n",
       " ('Mary', 92)]"
      ]
     },
     "execution_count": 69,
     "metadata": {},
     "output_type": "execute_result"
    }
   ],
   "source": [
    "ans = {}\n",
    "with open(txtfile) as f:\n",
    "    for line in f:\n",
    "        name = line.split('\\t')[0]\n",
    "        if name in ans:\n",
    "            ans[name] += 1\n",
    "        else:\n",
    "            ans[name] = 1\n",
    "            \n",
    "ans = sorted(ans.items(), key=lambda x:-x[1])\n",
    "ans[:5]"
   ]
  },
  {
   "cell_type": "code",
   "execution_count": 70,
   "id": "79b4465e",
   "metadata": {},
   "outputs": [
    {
     "name": "stdout",
     "output_type": "stream",
     "text": [
      " 118 James\r\n",
      " 111 William\r\n",
      " 108 Robert\r\n",
      " 108 John\r\n",
      "  92 Mary\r\n"
     ]
    }
   ],
   "source": [
    "!cat popular-names.txt | cut -f 1 | sort -k 1 | uniq -c | sort -k 1 -r | head -n 5"
   ]
  },
  {
   "cell_type": "code",
   "execution_count": null,
   "id": "91171ea9",
   "metadata": {},
   "outputs": [],
   "source": []
  }
 ],
 "metadata": {
  "kernelspec": {
   "display_name": "Python 3",
   "language": "python",
   "name": "python3"
  },
  "language_info": {
   "codemirror_mode": {
    "name": "ipython",
    "version": 3
   },
   "file_extension": ".py",
   "mimetype": "text/x-python",
   "name": "python",
   "nbconvert_exporter": "python",
   "pygments_lexer": "ipython3",
   "version": "3.9.4"
  }
 },
 "nbformat": 4,
 "nbformat_minor": 5
}

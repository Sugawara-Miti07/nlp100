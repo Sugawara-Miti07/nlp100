{
 "cells": [
  {
   "cell_type": "markdown",
   "id": "fd40cb97",
   "metadata": {},
   "source": [
    "# 50.データの入手・整形"
   ]
  },
  {
   "cell_type": "code",
   "execution_count": 41,
   "id": "5d3bcdc2",
   "metadata": {},
   "outputs": [],
   "source": [
    "from sklearn.model_selection import train_test_split\n",
    "from sklearn.feature_extraction.text import TfidfVectorizer\n",
    "from sklearn.linear_model import LogisticRegression\n",
    "from sklearn.metrics import confusion_matrix, accuracy_score, precision_score, recall_score, f1_score,classification_report\n",
    "from sklearn.model_selection import GridSearchCV"
   ]
  },
  {
   "cell_type": "code",
   "execution_count": 42,
   "id": "3d6e4079",
   "metadata": {},
   "outputs": [],
   "source": [
    "import pandas as pd\n",
    "col_names = ('id','title','url','publisher','category','entertainment','story','hostname','timestamp')\n",
    "df = pd.read_table('newsCorpora.csv',names = ('id','title','url','publisher','category','entertainment','story','hostname','timestamp'), index_col = 0)\n",
    "df = df[df['publisher'].isin([\"Reuters\", \"Huffington Post\", \"Businessweek\", \"Contactmusic.com\", \"Daily Mail\"])][['category','title']]"
   ]
  },
  {
   "cell_type": "code",
   "execution_count": 43,
   "id": "5657b040",
   "metadata": {},
   "outputs": [],
   "source": [
    "df_train,df_test = train_test_split(df, train_size = 0.8)\n",
    "df_test,df_valid = train_test_split(df_test, train_size = 0.5)\n",
    "\n",
    "df_train.to_csv(\"train.txt\",sep=\"\\t\", index = False)\n",
    "df_valid.to_csv(\"valid.txt\",sep=\"\\t\", index = False)\n",
    "df_test.to_csv(\"test.txt\" ,sep =\"\\t\", index = False)"
   ]
  },
  {
   "cell_type": "code",
   "execution_count": 44,
   "id": "815efc91",
   "metadata": {},
   "outputs": [
    {
     "name": "stdout",
     "output_type": "stream",
     "text": [
      "b    4500\n",
      "e    4218\n",
      "t    1225\n",
      "m     729\n",
      "Name: category, dtype: int64\n",
      "b    572\n",
      "e    522\n",
      "t    152\n",
      "m     88\n",
      "Name: category, dtype: int64\n",
      "b    555\n",
      "e    539\n",
      "t    147\n",
      "m     93\n",
      "Name: category, dtype: int64\n"
     ]
    }
   ],
   "source": [
    "print(df_train['category'].value_counts())\n",
    "print(df_valid['category'].value_counts())\n",
    "print(df_test['category'].value_counts())"
   ]
  },
  {
   "cell_type": "markdown",
   "id": "478e215c",
   "metadata": {},
   "source": [
    "# 51.特徴量抽出"
   ]
  },
  {
   "cell_type": "code",
   "execution_count": 45,
   "id": "e64c9710",
   "metadata": {},
   "outputs": [],
   "source": [
    "tfidf = TfidfVectorizer()\n",
    "#x = tfidf.fit_transform()\n",
    "\n",
    "train_tfidf = tfidf.fit_transform(df_train['title'])\n",
    "test_tfidf = tfidf.transform(df_test['title'])\n",
    "valid_tfidf = tfidf.transform(df_valid['title'])\n",
    "\n",
    "\n",
    "train_feature = pd.DataFrame(train_tfidf.toarray(), columns=tfidf.get_feature_names())\n",
    "train_feature.to_csv(\"train.feature.txt\", sep=\"\\t\", index=False)\n",
    "test_feature = pd.DataFrame(test_tfidf.toarray(), columns=tfidf.get_feature_names())\n",
    "test_feature.to_csv(\"test.feature.txt\", sep=\"\\t\", index=False)\n",
    "valid_feature = pd.DataFrame(valid_tfidf.toarray(), columns=tfidf.get_feature_names())\n",
    "valid_feature.to_csv(\"valid.feature.txt\", sep=\"\\t\", index=False)"
   ]
  },
  {
   "cell_type": "markdown",
   "id": "54b6431e",
   "metadata": {},
   "source": [
    "# 52.学習"
   ]
  },
  {
   "cell_type": "code",
   "execution_count": 46,
   "id": "64a32e16",
   "metadata": {},
   "outputs": [
    {
     "data": {
      "text/plain": [
       "LogisticRegression(max_iter=300)"
      ]
     },
     "execution_count": 46,
     "metadata": {},
     "output_type": "execute_result"
    }
   ],
   "source": [
    "model = LogisticRegression(max_iter=300)\n",
    "model.fit(train_feature,df_train['category'])"
   ]
  },
  {
   "cell_type": "markdown",
   "id": "29f1ad2b",
   "metadata": {},
   "source": [
    "# 53.予測"
   ]
  },
  {
   "cell_type": "code",
   "execution_count": 47,
   "id": "cf16b7d5",
   "metadata": {},
   "outputs": [
    {
     "name": "stdout",
     "output_type": "stream",
     "text": [
      "e\t[0.10760348 0.78020026 0.05534911 0.05684715]\n",
      "t\t[0.13099064 0.27035402 0.06694354 0.53171181]\n",
      "b\t[0.84890702 0.08492066 0.02555143 0.04062089]\n",
      "b\t[0.95248324 0.02379473 0.00768947 0.01603256]\n",
      "b\t[0.98285999 0.00776043 0.00340982 0.00596976]\n",
      "e\t[0.07195153 0.88576472 0.02324952 0.01903423]\n",
      "e\t[0.11501611 0.79737039 0.03655542 0.05105808]\n",
      "t\t[0.33025115 0.10938469 0.02793478 0.53242938]\n",
      "e\t[0.13293617 0.77733167 0.03694981 0.05278235]\n",
      "t\t[0.17060719 0.20540066 0.04553019 0.57846196]\n"
     ]
    }
   ],
   "source": [
    "pre = model.predict(valid_feature)\n",
    "pre_ = model.predict_proba(valid_feature)\n",
    "for i in range(10):\n",
    "    print('{}\\t{}'.format(pre[i],pre_[i]))"
   ]
  },
  {
   "cell_type": "markdown",
   "id": "e6bc919e",
   "metadata": {},
   "source": [
    "# 54.正解率の計測"
   ]
  },
  {
   "cell_type": "code",
   "execution_count": 48,
   "id": "b4e3a77a",
   "metadata": {},
   "outputs": [
    {
     "name": "stdout",
     "output_type": "stream",
     "text": [
      "train\n",
      "0.9450899550224887\n",
      "test\n",
      "0.8778110944527736\n"
     ]
    }
   ],
   "source": [
    "pre = model.predict(train_feature)\n",
    "print('train')\n",
    "print(accuracy_score(df_train['category'],pre))\n",
    "pre = model.predict(test_feature)\n",
    "print('test')\n",
    "print(accuracy_score(df_test['category'],pre))"
   ]
  },
  {
   "cell_type": "markdown",
   "id": "15ccead9",
   "metadata": {},
   "source": [
    "# 55.混合行列の作成"
   ]
  },
  {
   "cell_type": "code",
   "execution_count": 49,
   "id": "37054770",
   "metadata": {},
   "outputs": [
    {
     "name": "stdout",
     "output_type": "stream",
     "text": [
      "train\n",
      "[[4409   55    3   33]\n",
      " [  17 4197    1    3]\n",
      " [  80  125  522    2]\n",
      " [ 157  108    2  958]]\n",
      "test\n",
      "[[235 245  19  56]\n",
      " [254 235  20  30]\n",
      " [ 43  43   2   5]\n",
      " [ 67  63   4  13]]\n"
     ]
    }
   ],
   "source": [
    "pre_train = model.predict(train_feature)\n",
    "print('train')\n",
    "cm_train = confusion_matrix(df_train['category'],pre_train)\n",
    "print(cm_train)\n",
    "pre_test = model.predict(valid_feature)\n",
    "print('test')\n",
    "cm_test = confusion_matrix(df_test['category'],pre_test)\n",
    "print(cm_test)"
   ]
  },
  {
   "cell_type": "markdown",
   "id": "36948856",
   "metadata": {},
   "source": [
    "# 56.適合率, 再現率, F1スコアの計測"
   ]
  },
  {
   "cell_type": "code",
   "execution_count": 50,
   "id": "12c7cc0f",
   "metadata": {},
   "outputs": [
    {
     "name": "stdout",
     "output_type": "stream",
     "text": [
      "train\n",
      "              precision    recall  f1-score   support\n",
      "\n",
      "           b       0.95      0.98      0.96      4500\n",
      "           e       0.94      1.00      0.96      4218\n",
      "           m       0.99      0.72      0.83       729\n",
      "           t       0.96      0.78      0.86      1225\n",
      "\n",
      "    accuracy                           0.95     10672\n",
      "   macro avg       0.96      0.87      0.91     10672\n",
      "weighted avg       0.95      0.95      0.94     10672\n",
      "\n",
      "test\n",
      "              precision    recall  f1-score   support\n",
      "\n",
      "           b       0.39      0.42      0.41       555\n",
      "           e       0.40      0.44      0.42       539\n",
      "           m       0.04      0.02      0.03        93\n",
      "           t       0.12      0.09      0.10       147\n",
      "\n",
      "    accuracy                           0.36      1334\n",
      "   macro avg       0.24      0.24      0.24      1334\n",
      "weighted avg       0.34      0.36      0.35      1334\n",
      "\n"
     ]
    }
   ],
   "source": [
    "print('train')\n",
    "print(classification_report(df_train['category'],pre_train))\n",
    "print('test')\n",
    "print(classification_report(df_test['category'],pre_test))"
   ]
  },
  {
   "cell_type": "markdown",
   "id": "7c2d26af",
   "metadata": {},
   "source": [
    "# 57.特徴量の重みの確認"
   ]
  },
  {
   "cell_type": "code",
   "execution_count": 51,
   "id": "fffc0462",
   "metadata": {},
   "outputs": [
    {
     "name": "stdout",
     "output_type": "stream",
     "text": [
      "b\n",
      "top\n",
      "['dollar', 'update', 'ukraine', 'profit', 'euro', 'bank', 'ecb', 'stocks', 'china', 'fed']\n",
      "worst\n",
      "['the', 'and', 'her', 'ebola', 'she', 'study', 'apple', 'star', 'facebook', 'kardashian']\n",
      "e\n",
      "top\n",
      "['movie', 'paul', 'cyrus', 'miley', 'star', 'she', 'kim', 'chris', 'her', 'kardashian']\n",
      "worst\n",
      "['update', 'us', 'google', 'china', 'ceo', 'gm', 'says', 'apple', 'study', 'facebook']\n",
      "m\n",
      "top\n",
      "['virus', 'cigarettes', 'cdc', 'health', 'mers', 'fda', 'drug', 'cancer', 'study', 'ebola']\n",
      "worst\n",
      "['google', 'at', 'ceo', 'gm', 'facebook', 'apple', 'twitter', 'sales', 'climate', 'amazon']\n",
      "t\n",
      "top\n",
      "['comcast', 'samsung', 'nasa', 'tesla', 'gm', 'microsoft', 'climate', 'facebook', 'apple', 'google']\n",
      "worst\n",
      "['stocks', 'fed', 'drug', 'american', 'cancer', 'her', 'ecb', 'percent', 'kardashian', 'ebola']\n"
     ]
    }
   ],
   "source": [
    "import numpy as np\n",
    "\n",
    "names = tfidf.get_feature_names()\n",
    "for category, i in zip(model.classes_, model.coef_):\n",
    "    print(category)\n",
    "    rank = np.argsort(i)\n",
    "   \n",
    "    top = [names[k] for k in rank[-10:]]\n",
    "    worst = [names[k] for k in rank[:10]]\n",
    "    print('top')\n",
    "    print(top)\n",
    "    print('worst')\n",
    "    print(worst)"
   ]
  },
  {
   "cell_type": "markdown",
   "id": "b0f9d7eb",
   "metadata": {},
   "source": [
    "# 58.正規化パラメータの変更"
   ]
  },
  {
   "cell_type": "code",
   "execution_count": 52,
   "id": "2ecb1767",
   "metadata": {},
   "outputs": [],
   "source": [
    "param = [0.1, 1, 3, 5]\n",
    "\n",
    "train_accuracy = []\n",
    "test_accuracy  = []\n",
    "valid_accuracy = []\n",
    "\n",
    "for c in param:\n",
    "    model = LogisticRegression(max_iter=200,C=c)\n",
    "    model.fit(train_feature,df_train['category'])\n",
    "    pre = model.predict(train_feature)\n",
    "    train_accuracy.append(accuracy_score(df_train['category'],pre))\n",
    "    pre = model.predict(test_feature)\n",
    "    test_accuracy.append(accuracy_score(df_test['category'],pre))\n",
    "    pre = model.predict(valid_feature)\n",
    "    valid_accuracy.append(accuracy_score(df_valid['category'],pre))\n"
   ]
  },
  {
   "cell_type": "code",
   "execution_count": 53,
   "id": "5c71f791",
   "metadata": {},
   "outputs": [
    {
     "data": {
      "text/plain": [
       "<matplotlib.legend.Legend at 0x1251446a0>"
      ]
     },
     "execution_count": 53,
     "metadata": {},
     "output_type": "execute_result"
    },
    {
     "data": {
      "image/png": "[encoded data removed]",
      "text/plain": [
       "<Figure size 432x288 with 1 Axes>"
      ]
     },
     "metadata": {
      "needs_background": "light"
     },
     "output_type": "display_data"
    }
   ],
   "source": [
    "import matplotlib.pyplot as plt\n",
    "\n",
    "plt.plot(param, train_accuracy,label = 'train')\n",
    "plt.plot(param, test_accuracy, label = 'test')\n",
    "plt.plot(param, valid_accuracy,label = 'valid')\n",
    "plt.legend()"
   ]
  },
  {
   "cell_type": "markdown",
   "id": "b16f8049",
   "metadata": {},
   "source": [
    "# 59.ハイパーパラメータの探索"
   ]
  },
  {
   "cell_type": "code",
   "execution_count": 54,
   "id": "9dc92db7",
   "metadata": {},
   "outputs": [],
   "source": [
    "C = np.logspace(0, 4, 5, base=2)\n",
    "solver = ['newton-cg', 'lbfgs', 'liblinear','saga']\n",
    "\n",
    "res = []\n",
    "for c in C:\n",
    "    for s in solver:\n",
    "        \n",
    "       model = LogisticRegression(C=c, solver=s, max_iter=600)\n",
    "       model.fit(train_feature,df_train['category'])\n",
    "       pre = model.predict(valid_feature)       \n",
    "       res.append((accuracy_score(df_valid['category'],pre),c,s))"
   ]
  },
  {
   "cell_type": "code",
   "execution_count": 55,
   "id": "ccb22a71",
   "metadata": {},
   "outputs": [
    {
     "data": {
      "text/plain": [
       "(0.9152923538230885, 16.0, 'liblinear')"
      ]
     },
     "execution_count": 55,
     "metadata": {},
     "output_type": "execute_result"
    }
   ],
   "source": [
    "res = sorted(res, key = lambda x:x[0],reverse = True)\n",
    "res[0]"
   ]
  },
  {
   "cell_type": "code",
   "execution_count": null,
   "id": "48b0fb72",
   "metadata": {},
   "outputs": [],
   "source": []
  }
 ],
 "metadata": {
  "kernelspec": {
   "display_name": "Python 3",
   "language": "python",
   "name": "python3"
  },
  "language_info": {
   "codemirror_mode": {
    "name": "ipython",
    "version": 3
   },
   "file_extension": ".py",
   "mimetype": "text/x-python",
   "name": "python",
   "nbconvert_exporter": "python",
   "pygments_lexer": "ipython3",
   "version": "3.9.4"
  }
 },
 "nbformat": 4,
 "nbformat_minor": 5
}

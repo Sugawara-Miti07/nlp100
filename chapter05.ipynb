{
 "cells": [
  {
   "cell_type": "code",
   "execution_count": 27,
   "id": "0321cfac",
   "metadata": {},
   "outputs": [],
   "source": [
    "!cat ai.ja.txt | cabocha -f1 > ai.ja.txt.parsed"
   ]
  },
  {
   "cell_type": "markdown",
   "id": "2e967053",
   "metadata": {},
   "source": [
    "# 40.係り受け解析の読み込み"
   ]
  },
  {
   "cell_type": "code",
   "execution_count": 3,
   "id": "b1663406",
   "metadata": {},
   "outputs": [
    {
     "name": "stdout",
     "output_type": "stream",
     "text": [
      "{'surface': '人工', 'base': '人工', 'pos': '名詞', 'pos1': '一般'}\n",
      "{'surface': '知能', 'base': '知能', 'pos': '名詞', 'pos1': '一般'}\n",
      "{'surface': '（', 'base': '（', 'pos': '記号', 'pos1': '括弧開'}\n",
      "{'surface': 'じん', 'base': 'じん', 'pos': '名詞', 'pos1': '一般'}\n",
      "{'surface': 'こうち', 'base': 'こうち', 'pos': '名詞', 'pos1': '一般'}\n",
      "{'surface': 'のう', 'base': 'のう', 'pos': '助詞', 'pos1': '終助詞'}\n",
      "{'surface': '、', 'base': '、', 'pos': '記号', 'pos1': '読点'}\n",
      "{'surface': '、', 'base': '、', 'pos': '記号', 'pos1': '読点'}\n",
      "{'surface': 'AI', 'base': '*\\n', 'pos': '名詞', 'pos1': '一般'}\n",
      "{'surface': '〈', 'base': '〈', 'pos': '記号', 'pos1': '括弧開'}\n"
     ]
    }
   ],
   "source": [
    "import re\n",
    "\n",
    "class Morph:\n",
    "    def __init__(self, line):\n",
    "        \n",
    "        cols = re.split ( '\\t|,',line)\n",
    "        self.surface = cols[0]\n",
    "        self.base = cols[7]    \n",
    "        self.pos = cols[1]     \n",
    "        self.pos1 = cols[2]    \n",
    "        \n",
    "res = []\n",
    "morph = []\n",
    "\n",
    "with open('ai.ja.txt.parsed') as f:    \n",
    "    for line in f:\n",
    "         \n",
    "        if re.match('EOS\\n',line):   \n",
    "            res.append(morph)\n",
    "            morph =[]           \n",
    "        else:\n",
    "            if line[0] == '*':\n",
    "                continue\n",
    "            else:               \n",
    "                morph.append(Morph(line))\n",
    "        \n",
    "for i in res[2][:10]:\n",
    "    print(vars(i))"
   ]
  },
  {
   "cell_type": "markdown",
   "id": "1ac32faf",
   "metadata": {},
   "source": [
    "# 41.係り受け解析結果の読み込み"
   ]
  },
  {
   "cell_type": "code",
   "execution_count": 4,
   "id": "179fc51d",
   "metadata": {},
   "outputs": [
    {
     "name": "stdout",
     "output_type": "stream",
     "text": [
      "0: 人工知能, dst:17, srcs:[]\n",
      "1: （じんこうちのう、、, dst:17, srcs:[]\n",
      "2: AI, dst:3, srcs:[]\n",
      "3: 〈エーアイ〉）とは、, dst:17, srcs:[2]\n",
      "4: 「『計算, dst:5, srcs:[]\n",
      "5: （）』という, dst:9, srcs:[4]\n",
      "6: 概念と, dst:9, srcs:[]\n",
      "7: 『コンピュータ, dst:8, srcs:[]\n",
      "8: （）』という, dst:9, srcs:[7]\n",
      "9: 道具を, dst:10, srcs:[5, 6, 8]\n",
      "10: 用いて, dst:12, srcs:[9]\n",
      "11: 『知能』を, dst:12, srcs:[]\n",
      "12: 研究する, dst:13, srcs:[10, 11]\n",
      "13: 計算機科学, dst:14, srcs:[12]\n",
      "14: （）の, dst:15, srcs:[13]\n",
      "15: 一分野」を, dst:16, srcs:[14]\n",
      "16: 指す, dst:17, srcs:[15]\n",
      "17: 語, dst:-1, srcs:[0, 1, 3, 16]\n"
     ]
    }
   ],
   "source": [
    "class Morph:\n",
    "    def __init__(self, line):\n",
    "\n",
    "        cols = re.split ( '\\t|,',line)\n",
    "        self.surface = cols[0] \n",
    "        self.base = cols[7]    \n",
    "        self.pos = cols[1]     \n",
    "        self.pos1 = cols[2]    \n",
    "\n",
    "class Chunk:\n",
    "    def __init__(self, morphs, dst):\n",
    "        self.morphs = morphs\n",
    "        self.srcs = []   \n",
    "        self.dst  = dst  \n",
    "        self.phrase = ''.join([morph.surface for morph in morphs]) \n",
    "        \n",
    "          \n",
    "        self.joshi = ''\n",
    "        self.verb = ''\n",
    "        self.sahen = ''\n",
    "        \n",
    " #          if morph.pos != '記号':\n",
    " #               self.joshi = ''  # 記号を除いた最終行の助詞を取得するため、記号以外の場合はブランク\n",
    " #           if morph.pos == '動詞':\n",
    " #               self.verb = morph.base\n",
    " #           if morph.pos == '助詞':\n",
    " #               self.joshi = morph.base\n",
    "                \n",
    "            \n",
    "def add_sentence(chunks, sentences):\n",
    "    for i, chunk in enumerate(chunks):\n",
    "        if chunk.dst != -1:\n",
    "            chunks[chunk.dst].srcs.append(i)\n",
    "    sentences.append(chunks)\n",
    "    return sentences, []\n",
    "\n",
    "morphs = []\n",
    "chunks = []\n",
    "sentences = []\n",
    "\n",
    "with open('ai.ja.txt.parsed') as f:\n",
    "\n",
    "    for line in f:\n",
    "        dependancies = re.match(r'(?:\\*\\s\\d+\\s)(-?\\d+)',line ,re.VERBOSE)\n",
    "        if not (line == 'EOS\\n' or dependancies or line[0] == '。'):\n",
    "            morphs.append(Morph(line))\n",
    "        elif len(morphs) > 0:\n",
    "            chunks.append(Chunk(morphs, dst))\n",
    "            morphs = []\n",
    "        if dependancies:\n",
    "            dst = int(dependancies.group(1))\n",
    "        if line == 'EOS\\n' and len(chunks) > 0:\n",
    "            sentences, chunks = add_sentence(chunks, sentences)\n",
    "\n",
    "for i, chunk in enumerate(sentences[1]):\n",
    "    print('{}: {}, dst:{}, srcs:{}'.format(i, chunk.phrase, chunk.dst, chunk.srcs))"
   ]
  },
  {
   "cell_type": "markdown",
   "id": "873b1b1c",
   "metadata": {},
   "source": [
    "# 42.係り元と係り先の文節の表示"
   ]
  },
  {
   "cell_type": "code",
   "execution_count": 67,
   "id": "83256ee5",
   "metadata": {},
   "outputs": [
    {
     "name": "stdout",
     "output_type": "stream",
     "text": [
      "人工知能\t語\n",
      "（じんこうちのう、、\t語\n",
      "AI\t〈エーアイ〉）とは、\n",
      "〈エーアイ〉）とは、\t語\n",
      "「『計算\t（）』という\n",
      "（）』という\t道具を\n",
      "概念と\t道具を\n",
      "『コンピュータ\t（）』という\n",
      "（）』という\t道具を\n",
      "道具を\t用いて\n",
      "用いて\t研究する\n",
      "『知能』を\t研究する\n",
      "研究する\t計算機科学\n",
      "計算機科学\t（）の\n",
      "（）の\t一分野」を\n",
      "一分野」を\t指す\n",
      "指す\t語\n"
     ]
    }
   ],
   "source": [
    "for sentence in sentences[:2]:\n",
    "    for chunk in sentence:\n",
    "        if chunk.dst != -1:\n",
    "            print('{}\\t{}'.format(chunk.phrase, sentence[chunk.dst].phrase))"
   ]
  },
  {
   "cell_type": "markdown",
   "id": "c1b55a74",
   "metadata": {},
   "source": [
    "# 43.名刺を含む文節が動詞を含む文節に係るものを抽出"
   ]
  },
  {
   "cell_type": "code",
   "execution_count": 68,
   "id": "f7f7d687",
   "metadata": {},
   "outputs": [
    {
     "name": "stdout",
     "output_type": "stream",
     "text": [
      "道具を\t用いて\n",
      "『知能』を\t研究する\n",
      "一分野」を\t指す\n"
     ]
    }
   ],
   "source": [
    "for sentence in sentences[:2]:\n",
    "    for k in sentence:\n",
    "        if any(m.pos == '名詞' for m in k.morphs) and any(m.pos == '動詞' for m in sentence[k.dst].morphs):\n",
    "            print(k.phrase + '\\t' + sentence[k.dst].phrase)"
   ]
  },
  {
   "cell_type": "markdown",
   "id": "e033c54c",
   "metadata": {},
   "source": [
    "# 44.係り受け木の可視化Permalink"
   ]
  },
  {
   "cell_type": "code",
   "execution_count": 69,
   "id": "c3949960",
   "metadata": {},
   "outputs": [],
   "source": [
    "from graphviz import Digraph"
   ]
  },
  {
   "cell_type": "code",
   "execution_count": 70,
   "id": "7708a8ac",
   "metadata": {},
   "outputs": [
    {
     "data": {
      "image/svg+xml": [
       "<?xml version=\"1.0\" encoding=\"UTF-8\" standalone=\"no\"?>\n",
       "<!DOCTYPE svg PUBLIC \"-//W3C//DTD SVG 1.1//EN\"\n",
       " \"http://www.w3.org/Graphics/SVG/1.1/DTD/svg11.dtd\">\n",
       "<!-- Generated by graphviz version 2.47.1 (20210417.1919)\n",
       " -->\n",
       "<!-- Pages: 1 -->\n",
       "<svg width=\"686pt\" height=\"692pt\"\n",
       " viewBox=\"0.00 0.00 686.29 692.00\" xmlns=\"http://www.w3.org/2000/svg\" xmlns:xlink=\"http://www.w3.org/1999/xlink\">\n",
       "<g id=\"graph0\" class=\"graph\" transform=\"scale(1 1) rotate(0) translate(4 688)\">\n",
       "<polygon fill=\"white\" stroke=\"transparent\" points=\"-4,4 -4,-688 682.29,-688 682.29,4 -4,4\"/>\n",
       "<!-- 人工知能 -->\n",
       "<g id=\"node1\" class=\"node\">\n",
       "<title>人工知能</title>\n",
       "<ellipse fill=\"none\" stroke=\"black\" cx=\"48.1\" cy=\"-90\" rx=\"48.19\" ry=\"18\"/>\n",
       "<text text-anchor=\"middle\" x=\"48.1\" y=\"-86.3\" font-family=\"Times,serif\" font-size=\"14.00\">人工知能</text>\n",
       "</g>\n",
       "<!-- 語 -->\n",
       "<g id=\"node17\" class=\"node\">\n",
       "<title>語</title>\n",
       "<ellipse fill=\"none\" stroke=\"black\" cx=\"322.1\" cy=\"-18\" rx=\"27\" ry=\"18\"/>\n",
       "<text text-anchor=\"middle\" x=\"322.1\" y=\"-14.3\" font-family=\"Times,serif\" font-size=\"14.00\">語</text>\n",
       "</g>\n",
       "<!-- 人工知能&#45;&gt;語 -->\n",
       "<g id=\"edge1\" class=\"edge\">\n",
       "<title>人工知能&#45;&gt;語</title>\n",
       "<path fill=\"none\" stroke=\"black\" d=\"M84.2,-77.93C91.12,-75.9 98.32,-73.84 105.1,-72 168.89,-54.71 243.93,-36.95 286.96,-27.01\"/>\n",
       "<polygon fill=\"black\" stroke=\"black\" points=\"287.97,-30.37 296.93,-24.71 286.4,-23.55 287.97,-30.37\"/>\n",
       "</g>\n",
       "<!-- （じんこうちのう、、 -->\n",
       "<g id=\"node2\" class=\"node\">\n",
       "<title>（じんこうちのう、、</title>\n",
       "<ellipse fill=\"none\" stroke=\"black\" cx=\"217.1\" cy=\"-90\" rx=\"102.88\" ry=\"18\"/>\n",
       "<text text-anchor=\"middle\" x=\"217.1\" y=\"-86.3\" font-family=\"Times,serif\" font-size=\"14.00\">（じんこうちのう、、</text>\n",
       "</g>\n",
       "<!-- （じんこうちのう、、&#45;&gt;語 -->\n",
       "<g id=\"edge2\" class=\"edge\">\n",
       "<title>（じんこうちのう、、&#45;&gt;語</title>\n",
       "<path fill=\"none\" stroke=\"black\" d=\"M241.98,-72.41C257.94,-61.77 278.67,-47.95 295.04,-37.03\"/>\n",
       "<polygon fill=\"black\" stroke=\"black\" points=\"297.25,-39.77 303.63,-31.31 293.37,-33.94 297.25,-39.77\"/>\n",
       "</g>\n",
       "<!-- AI -->\n",
       "<g id=\"node3\" class=\"node\">\n",
       "<title>AI</title>\n",
       "<ellipse fill=\"none\" stroke=\"black\" cx=\"427.1\" cy=\"-162\" rx=\"27\" ry=\"18\"/>\n",
       "<text text-anchor=\"middle\" x=\"427.1\" y=\"-158.3\" font-family=\"Times,serif\" font-size=\"14.00\">AI</text>\n",
       "</g>\n",
       "<!-- 〈エーアイ〉）とは、 -->\n",
       "<g id=\"node4\" class=\"node\">\n",
       "<title>〈エーアイ〉）とは、</title>\n",
       "<ellipse fill=\"none\" stroke=\"black\" cx=\"427.1\" cy=\"-90\" rx=\"89.88\" ry=\"18\"/>\n",
       "<text text-anchor=\"middle\" x=\"427.1\" y=\"-86.3\" font-family=\"Times,serif\" font-size=\"14.00\">〈エーアイ〉）とは、</text>\n",
       "</g>\n",
       "<!-- AI&#45;&gt;〈エーアイ〉）とは、 -->\n",
       "<g id=\"edge3\" class=\"edge\">\n",
       "<title>AI&#45;&gt;〈エーアイ〉）とは、</title>\n",
       "<path fill=\"none\" stroke=\"black\" d=\"M427.1,-143.7C427.1,-135.98 427.1,-126.71 427.1,-118.11\"/>\n",
       "<polygon fill=\"black\" stroke=\"black\" points=\"430.6,-118.1 427.1,-108.1 423.6,-118.1 430.6,-118.1\"/>\n",
       "</g>\n",
       "<!-- 〈エーアイ〉）とは、&#45;&gt;語 -->\n",
       "<g id=\"edge4\" class=\"edge\">\n",
       "<title>〈エーアイ〉）とは、&#45;&gt;語</title>\n",
       "<path fill=\"none\" stroke=\"black\" d=\"M402.48,-72.59C386.52,-61.95 365.72,-48.08 349.28,-37.12\"/>\n",
       "<polygon fill=\"black\" stroke=\"black\" points=\"350.91,-34.01 340.65,-31.37 347.03,-39.83 350.91,-34.01\"/>\n",
       "</g>\n",
       "<!-- 「『計算 -->\n",
       "<g id=\"node5\" class=\"node\">\n",
       "<title>「『計算</title>\n",
       "<ellipse fill=\"none\" stroke=\"black\" cx=\"438.1\" cy=\"-666\" rx=\"48.19\" ry=\"18\"/>\n",
       "<text text-anchor=\"middle\" x=\"438.1\" y=\"-662.3\" font-family=\"Times,serif\" font-size=\"14.00\">「『計算</text>\n",
       "</g>\n",
       "<!-- （）』という -->\n",
       "<g id=\"node6\" class=\"node\">\n",
       "<title>（）』という</title>\n",
       "<ellipse fill=\"none\" stroke=\"black\" cx=\"508.1\" cy=\"-594\" rx=\"66.09\" ry=\"18\"/>\n",
       "<text text-anchor=\"middle\" x=\"508.1\" y=\"-590.3\" font-family=\"Times,serif\" font-size=\"14.00\">（）』という</text>\n",
       "</g>\n",
       "<!-- 「『計算&#45;&gt;（）』という -->\n",
       "<g id=\"edge5\" class=\"edge\">\n",
       "<title>「『計算&#45;&gt;（）』という</title>\n",
       "<path fill=\"none\" stroke=\"black\" d=\"M454.33,-648.76C463.21,-639.88 474.39,-628.71 484.24,-618.85\"/>\n",
       "<polygon fill=\"black\" stroke=\"black\" points=\"486.87,-621.18 491.46,-611.63 481.92,-616.23 486.87,-621.18\"/>\n",
       "</g>\n",
       "<!-- 道具を -->\n",
       "<g id=\"node9\" class=\"node\">\n",
       "<title>道具を</title>\n",
       "<ellipse fill=\"none\" stroke=\"black\" cx=\"508.1\" cy=\"-522\" rx=\"38.19\" ry=\"18\"/>\n",
       "<text text-anchor=\"middle\" x=\"508.1\" y=\"-518.3\" font-family=\"Times,serif\" font-size=\"14.00\">道具を</text>\n",
       "</g>\n",
       "<!-- （）』という&#45;&gt;道具を -->\n",
       "<g id=\"edge6\" class=\"edge\">\n",
       "<title>（）』という&#45;&gt;道具を</title>\n",
       "<path fill=\"none\" stroke=\"black\" d=\"M502.22,-576.05C501.39,-568.23 501.15,-558.75 501.51,-549.98\"/>\n",
       "<polygon fill=\"black\" stroke=\"black\" points=\"505.01,-550.01 502.23,-539.79 498.03,-549.51 505.01,-550.01\"/>\n",
       "</g>\n",
       "<!-- （）』という&#45;&gt;道具を -->\n",
       "<g id=\"edge9\" class=\"edge\">\n",
       "<title>（）』という&#45;&gt;道具を</title>\n",
       "<path fill=\"none\" stroke=\"black\" d=\"M513.97,-576.05C514.8,-568.23 515.04,-558.75 514.69,-549.98\"/>\n",
       "<polygon fill=\"black\" stroke=\"black\" points=\"518.16,-549.51 513.96,-539.79 511.18,-550.01 518.16,-549.51\"/>\n",
       "</g>\n",
       "<!-- 概念と -->\n",
       "<g id=\"node7\" class=\"node\">\n",
       "<title>概念と</title>\n",
       "<ellipse fill=\"none\" stroke=\"black\" cx=\"631.1\" cy=\"-594\" rx=\"38.19\" ry=\"18\"/>\n",
       "<text text-anchor=\"middle\" x=\"631.1\" y=\"-590.3\" font-family=\"Times,serif\" font-size=\"14.00\">概念と</text>\n",
       "</g>\n",
       "<!-- 概念と&#45;&gt;道具を -->\n",
       "<g id=\"edge7\" class=\"edge\">\n",
       "<title>概念と&#45;&gt;道具を</title>\n",
       "<path fill=\"none\" stroke=\"black\" d=\"M607.67,-579.67C588.73,-568.89 561.84,-553.58 540.78,-541.6\"/>\n",
       "<polygon fill=\"black\" stroke=\"black\" points=\"542.27,-538.42 531.85,-536.52 538.81,-544.51 542.27,-538.42\"/>\n",
       "</g>\n",
       "<!-- 『コンピュータ -->\n",
       "<g id=\"node8\" class=\"node\">\n",
       "<title>『コンピュータ</title>\n",
       "<ellipse fill=\"none\" stroke=\"black\" cx=\"579.1\" cy=\"-666\" rx=\"75.29\" ry=\"18\"/>\n",
       "<text text-anchor=\"middle\" x=\"579.1\" y=\"-662.3\" font-family=\"Times,serif\" font-size=\"14.00\">『コンピュータ</text>\n",
       "</g>\n",
       "<!-- 『コンピュータ&#45;&gt;（）』という -->\n",
       "<g id=\"edge8\" class=\"edge\">\n",
       "<title>『コンピュータ&#45;&gt;（）』という</title>\n",
       "<path fill=\"none\" stroke=\"black\" d=\"M562.27,-648.41C553.25,-639.52 541.98,-628.41 532.06,-618.63\"/>\n",
       "<polygon fill=\"black\" stroke=\"black\" points=\"534.38,-616 524.8,-611.47 529.46,-620.98 534.38,-616\"/>\n",
       "</g>\n",
       "<!-- 用いて -->\n",
       "<g id=\"node10\" class=\"node\">\n",
       "<title>用いて</title>\n",
       "<ellipse fill=\"none\" stroke=\"black\" cx=\"508.1\" cy=\"-450\" rx=\"37.89\" ry=\"18\"/>\n",
       "<text text-anchor=\"middle\" x=\"508.1\" y=\"-446.3\" font-family=\"Times,serif\" font-size=\"14.00\">用いて</text>\n",
       "</g>\n",
       "<!-- 道具を&#45;&gt;用いて -->\n",
       "<g id=\"edge10\" class=\"edge\">\n",
       "<title>道具を&#45;&gt;用いて</title>\n",
       "<path fill=\"none\" stroke=\"black\" d=\"M508.1,-503.7C508.1,-495.98 508.1,-486.71 508.1,-478.11\"/>\n",
       "<polygon fill=\"black\" stroke=\"black\" points=\"511.6,-478.1 508.1,-468.1 504.6,-478.1 511.6,-478.1\"/>\n",
       "</g>\n",
       "<!-- 研究する -->\n",
       "<g id=\"node12\" class=\"node\">\n",
       "<title>研究する</title>\n",
       "<ellipse fill=\"none\" stroke=\"black\" cx=\"564.1\" cy=\"-378\" rx=\"48.19\" ry=\"18\"/>\n",
       "<text text-anchor=\"middle\" x=\"564.1\" y=\"-374.3\" font-family=\"Times,serif\" font-size=\"14.00\">研究する</text>\n",
       "</g>\n",
       "<!-- 用いて&#45;&gt;研究する -->\n",
       "<g id=\"edge11\" class=\"edge\">\n",
       "<title>用いて&#45;&gt;研究する</title>\n",
       "<path fill=\"none\" stroke=\"black\" d=\"M521.08,-432.76C527.98,-424.14 536.6,-413.36 544.31,-403.73\"/>\n",
       "<polygon fill=\"black\" stroke=\"black\" points=\"547.28,-405.63 550.79,-395.63 541.81,-401.26 547.28,-405.63\"/>\n",
       "</g>\n",
       "<!-- 『知能』を -->\n",
       "<g id=\"node11\" class=\"node\">\n",
       "<title>『知能』を</title>\n",
       "<ellipse fill=\"none\" stroke=\"black\" cx=\"621.1\" cy=\"-450\" rx=\"57.39\" ry=\"18\"/>\n",
       "<text text-anchor=\"middle\" x=\"621.1\" y=\"-446.3\" font-family=\"Times,serif\" font-size=\"14.00\">『知能』を</text>\n",
       "</g>\n",
       "<!-- 『知能』を&#45;&gt;研究する -->\n",
       "<g id=\"edge12\" class=\"edge\">\n",
       "<title>『知能』を&#45;&gt;研究する</title>\n",
       "<path fill=\"none\" stroke=\"black\" d=\"M607.59,-432.41C600.56,-423.78 591.83,-413.06 584.04,-403.5\"/>\n",
       "<polygon fill=\"black\" stroke=\"black\" points=\"586.54,-401.01 577.51,-395.47 581.11,-405.43 586.54,-401.01\"/>\n",
       "</g>\n",
       "<!-- 計算機科学 -->\n",
       "<g id=\"node13\" class=\"node\">\n",
       "<title>計算機科学</title>\n",
       "<ellipse fill=\"none\" stroke=\"black\" cx=\"564.1\" cy=\"-306\" rx=\"57.39\" ry=\"18\"/>\n",
       "<text text-anchor=\"middle\" x=\"564.1\" y=\"-302.3\" font-family=\"Times,serif\" font-size=\"14.00\">計算機科学</text>\n",
       "</g>\n",
       "<!-- 研究する&#45;&gt;計算機科学 -->\n",
       "<g id=\"edge13\" class=\"edge\">\n",
       "<title>研究する&#45;&gt;計算機科学</title>\n",
       "<path fill=\"none\" stroke=\"black\" d=\"M564.1,-359.7C564.1,-351.98 564.1,-342.71 564.1,-334.11\"/>\n",
       "<polygon fill=\"black\" stroke=\"black\" points=\"567.6,-334.1 564.1,-324.1 560.6,-334.1 567.6,-334.1\"/>\n",
       "</g>\n",
       "<!-- （）の -->\n",
       "<g id=\"node14\" class=\"node\">\n",
       "<title>（）の</title>\n",
       "<ellipse fill=\"none\" stroke=\"black\" cx=\"564.1\" cy=\"-234\" rx=\"38.19\" ry=\"18\"/>\n",
       "<text text-anchor=\"middle\" x=\"564.1\" y=\"-230.3\" font-family=\"Times,serif\" font-size=\"14.00\">（）の</text>\n",
       "</g>\n",
       "<!-- 計算機科学&#45;&gt;（）の -->\n",
       "<g id=\"edge14\" class=\"edge\">\n",
       "<title>計算機科学&#45;&gt;（）の</title>\n",
       "<path fill=\"none\" stroke=\"black\" d=\"M564.1,-287.7C564.1,-279.98 564.1,-270.71 564.1,-262.11\"/>\n",
       "<polygon fill=\"black\" stroke=\"black\" points=\"567.6,-262.1 564.1,-252.1 560.6,-262.1 567.6,-262.1\"/>\n",
       "</g>\n",
       "<!-- 一分野」を -->\n",
       "<g id=\"node15\" class=\"node\">\n",
       "<title>一分野」を</title>\n",
       "<ellipse fill=\"none\" stroke=\"black\" cx=\"564.1\" cy=\"-162\" rx=\"57.39\" ry=\"18\"/>\n",
       "<text text-anchor=\"middle\" x=\"564.1\" y=\"-158.3\" font-family=\"Times,serif\" font-size=\"14.00\">一分野」を</text>\n",
       "</g>\n",
       "<!-- （）の&#45;&gt;一分野」を -->\n",
       "<g id=\"edge15\" class=\"edge\">\n",
       "<title>（）の&#45;&gt;一分野」を</title>\n",
       "<path fill=\"none\" stroke=\"black\" d=\"M564.1,-215.7C564.1,-207.98 564.1,-198.71 564.1,-190.11\"/>\n",
       "<polygon fill=\"black\" stroke=\"black\" points=\"567.6,-190.1 564.1,-180.1 560.6,-190.1 567.6,-190.1\"/>\n",
       "</g>\n",
       "<!-- 指す -->\n",
       "<g id=\"node16\" class=\"node\">\n",
       "<title>指す</title>\n",
       "<ellipse fill=\"none\" stroke=\"black\" cx=\"564.1\" cy=\"-90\" rx=\"29.5\" ry=\"18\"/>\n",
       "<text text-anchor=\"middle\" x=\"564.1\" y=\"-86.3\" font-family=\"Times,serif\" font-size=\"14.00\">指す</text>\n",
       "</g>\n",
       "<!-- 一分野」を&#45;&gt;指す -->\n",
       "<g id=\"edge16\" class=\"edge\">\n",
       "<title>一分野」を&#45;&gt;指す</title>\n",
       "<path fill=\"none\" stroke=\"black\" d=\"M564.1,-143.7C564.1,-135.98 564.1,-126.71 564.1,-118.11\"/>\n",
       "<polygon fill=\"black\" stroke=\"black\" points=\"567.6,-118.1 564.1,-108.1 560.6,-118.1 567.6,-118.1\"/>\n",
       "</g>\n",
       "<!-- 指す&#45;&gt;語 -->\n",
       "<g id=\"edge17\" class=\"edge\">\n",
       "<title>指す&#45;&gt;語</title>\n",
       "<path fill=\"none\" stroke=\"black\" d=\"M541.84,-78.3C536.73,-76.06 531.28,-73.82 526.1,-72 468.16,-51.67 398.54,-35.23 357.44,-26.3\"/>\n",
       "<polygon fill=\"black\" stroke=\"black\" points=\"358.14,-22.87 347.63,-24.2 356.67,-29.72 358.14,-22.87\"/>\n",
       "</g>\n",
       "</g>\n",
       "</svg>\n"
      ],
      "text/plain": [
       "<graphviz.dot.Digraph at 0x10e9a43d0>"
      ]
     },
     "execution_count": 70,
     "metadata": {},
     "output_type": "execute_result"
    }
   ],
   "source": [
    "Image = Digraph(format='png')\n",
    "\n",
    "for sentence in sentences[:2]:\n",
    "    for chunk in sentence:\n",
    "            Image.node(chunk.phrase)\n",
    "    \n",
    "for i in sentences[:1]:\n",
    "    for chunk in sentence:        \n",
    "        if chunk.dst != -1:\n",
    "            Image.edge(chunk.phrase,sentence[chunk.dst].phrase)\n",
    "        \n",
    "Image"
   ]
  },
  {
   "cell_type": "markdown",
   "id": "2306aca2",
   "metadata": {},
   "source": [
    "# 45.動詞の各パターンの抽出"
   ]
  },
  {
   "cell_type": "code",
   "execution_count": 71,
   "id": "f359d53c",
   "metadata": {},
   "outputs": [],
   "source": [
    "with open('045.result.txt', 'w') as out_file:\n",
    "    for sentence in sentences:\n",
    "        for chunk in sentence:\n",
    "            if chunk.verb != '' and len(chunk.srcs) > 0:\n",
    "                sources = [sentence[source].joshi for source in chunk.srcs if sentence[source].joshi != '']\n",
    "                if len(sources) > 0:\n",
    "                    sources.sort()\n",
    "                    out_file.write(('{}\\t{}\\n'.format(chunk.verb, ' '.join(sources))))"
   ]
  },
  {
   "cell_type": "code",
   "execution_count": 72,
   "id": "7944c4bc",
   "metadata": {},
   "outputs": [
    {
     "name": "stdout",
     "output_type": "stream",
     "text": [
      " 183 する\r\n",
      " 110 いる\r\n",
      "  53 れる\r\n",
      "  28 なる\r\n",
      "  26 ある\r\n"
     ]
    }
   ],
   "source": [
    "!cat 045.result.txt | cut -f 1 | sort | uniq -c | sort -k 1,1 -r | head -n 5"
   ]
  },
  {
   "cell_type": "code",
   "execution_count": 73,
   "id": "e8c3cc4d",
   "metadata": {},
   "outputs": [
    {
     "name": "stdout",
     "output_type": "stream",
     "text": [
      "  49 する\tを\r\n",
      "  14 する\tと\r\n",
      "  11 よる\tに\r\n",
      "  10 する\tに\r\n",
      "  10 する\tが\r\n"
     ]
    }
   ],
   "source": [
    "!cat 045.result.txt | sort -k 1,1 | uniq -c | sort -k 1,1 -r | head -n 5"
   ]
  },
  {
   "cell_type": "markdown",
   "id": "6ddde56b",
   "metadata": {},
   "source": [
    "# 46.動詞の格フレーム情報の抽出"
   ]
  },
  {
   "cell_type": "code",
   "execution_count": 44,
   "id": "4df388c8",
   "metadata": {},
   "outputs": [],
   "source": [
    "def output_file(out_file, sentence, chunk):\n",
    "    sources = [[sentence[source].joshi, sentence[source].phrase] \\\n",
    "                for source in chunk.srcs if sentence[source].joshi != '']\n",
    "\n",
    "    if len(sources) > 0:\n",
    "        sources.sort()\n",
    "        joshi = ' '.join([row[0] for row in sources])\n",
    "        phrase = ' '.join([row[1] for row in sources])\n",
    "        out_file.write(('{}\\t{}\\t{}\\n'.format(chunk.verb, joshi, phrase)))\n",
    "\n",
    "with open('./046.result.txt', 'w') as out_file:\n",
    "    for sentence in sentences:\n",
    "        for chunk in sentence:\n",
    "            if chunk.verb != '' and len(chunk.srcs) > 0:\n",
    "                output_file(out_file, sentence, chunk)"
   ]
  },
  {
   "cell_type": "code",
   "execution_count": 46,
   "id": "5c423af9",
   "metadata": {},
   "outputs": [
    {
     "name": "stdout",
     "output_type": "stream",
     "text": [
      "用いる\tを\t道具を\r\n",
      "する\tて を\t用いて 『知能』を\r\n",
      "指す\tを\t一分野」を\r\n",
      "代わる\tに を\t人間に 知的行動を\r\n",
      "せる\tて に\t代わって コンピューターに\r\n"
     ]
    }
   ],
   "source": [
    "! head -n 5 046.result.txt"
   ]
  },
  {
   "cell_type": "markdown",
   "id": "6393eb2a",
   "metadata": {},
   "source": [
    "# 47.機能動詞構文のマイニング"
   ]
  },
  {
   "cell_type": "code",
   "execution_count": 56,
   "id": "c710ffed",
   "metadata": {},
   "outputs": [],
   "source": [
    "class Morph:\n",
    "    def __init__(self, line):\n",
    "\n",
    "        cols = re.split ( '\\t|,',line)\n",
    "        self.surface = cols[0] \n",
    "        self.base = cols[7]    \n",
    "        self.pos = cols[1]     \n",
    "        self.pos1 = cols[2]    \n",
    "\n",
    "class Chunk:\n",
    "    def __init__(self, morphs, dst):\n",
    "        self.morphs = morphs\n",
    "        self.srcs = []   \n",
    "        self.dst  = dst  \n",
    "\n",
    "        self.phrase = ''\n",
    "        self.verb = ''\n",
    "        self.joshi = ''\n",
    "        self.sahen = '' \n",
    "\n",
    "        for i, morph in enumerate(morphs):\n",
    "            if morph.pos != '記号':\n",
    "                self.phrase += morph.surface \n",
    "                self.joshi = ''  \n",
    "\n",
    "            if morph.pos == '動詞' and self.verb == '':\n",
    "                self.verb = morph.base\n",
    "\n",
    "            if morphs[-1].pos == '助詞':\n",
    "                self.joshi = morphs[-1].base\n",
    "\n",
    "            try:\n",
    "                if morph.pos1 == 'サ変接続' and \\\n",
    "                   morphs[i+1].surface == 'を':\n",
    "                    self.sahen = morph.surface + morphs[i+1].surface\n",
    "            except IndexError:\n",
    "                pass\n",
    "            \n",
    "def add_sentence(chunks, sentences):\n",
    "    for i, chunk in enumerate(chunks):\n",
    "        if chunk.dst != -1:\n",
    "            chunks[chunk.dst].srcs.append(i)\n",
    "    sentences.append(chunks)\n",
    "    return sentences, []\n",
    "\n",
    "morphs = []\n",
    "chunks = []\n",
    "sentences = []\n",
    "\n",
    "with open('ai.ja.txt.parsed') as f:\n",
    "\n",
    "    for line in f:\n",
    "        dependancies = re.match(r'(?:\\*\\s\\d+\\s)(-?\\d+)',line ,re.VERBOSE)\n",
    "        if not (line == 'EOS\\n' or dependancies or line[0] == '。'):\n",
    "            morphs.append(Morph(line))\n",
    "        elif len(morphs) > 0:\n",
    "            chunks.append(Chunk(morphs, dst))\n",
    "            morphs = []\n",
    "        if dependancies:\n",
    "            dst = int(dependancies.group(1))\n",
    "        if line == 'EOS\\n' and len(chunks) > 0:\n",
    "            sentences, chunks = add_sentence(chunks, sentences)"
   ]
  },
  {
   "cell_type": "code",
   "execution_count": 57,
   "id": "0e82e0e7",
   "metadata": {},
   "outputs": [],
   "source": [
    "def output_file(out_file, sahen, sentence, chunk):\n",
    "    sources = [[sentence[source].joshi, sentence[source].phrase] \\\n",
    "                for source in chunk.srcs if sentence[source].joshi != '']\n",
    "\n",
    "    if len(sources) > 0:\n",
    "        sources.sort()\n",
    "        joshi = ' '.join([row[0] for row in sources])\n",
    "        phrase = ' '.join([row[1] for row in sources])\n",
    "        out_file.write(('{}\\t{}\\t{}\\n'.format(sahen, joshi, phrase)))\n",
    "\n",
    "with open('./047.result.txt', 'w') as out_file:\n",
    "    for sentence in sentences:\n",
    "        for chunk in sentence:\n",
    "\n",
    "            if chunk.sahen != '' and \\\n",
    "               chunk.dst != -1 and \\\n",
    "               sentence[chunk.dst].verb != '':\n",
    "                output_file(out_file, chunk.sahen+sentence[chunk.dst].verb, \n",
    "                            sentence, sentence[chunk.dst])"
   ]
  },
  {
   "cell_type": "code",
   "execution_count": 58,
   "id": "d0aeb8c4",
   "metadata": {},
   "outputs": [
    {
     "name": "stdout",
     "output_type": "stream",
     "text": [
      "行動を代わる\tに を\t人間に 知的行動を\r\n",
      "判断をする\tを\t推論判断を\r\n",
      "処理を用いる\tを\t記号処理を\r\n",
      "記述をする\tと を\t主体と 記述を\r\n",
      "注目を集める\tが を\tサポートベクターマシンが 注目を\r\n"
     ]
    }
   ],
   "source": [
    "! head -n 5 047.result.txt"
   ]
  },
  {
   "cell_type": "markdown",
   "id": "28383751",
   "metadata": {},
   "source": [
    "# 48.名詞から根へのパスへの抽出"
   ]
  },
  {
   "cell_type": "code",
   "execution_count": 59,
   "id": "29ad9bd3",
   "metadata": {},
   "outputs": [
    {
     "name": "stdout",
     "output_type": "stream",
     "text": [
      "ジョンマッカーシーは -> 作り出した\n",
      "AIに関する -> 最初の -> 会議で -> 作り出した\n",
      "最初の -> 会議で -> 作り出した\n",
      "会議で -> 作り出した\n",
      "人工知能という -> 用語を -> 作り出した\n",
      "用語を -> 作り出した\n"
     ]
    }
   ],
   "source": [
    "sentence = sentences[33]\n",
    "for chunk in sentence:\n",
    "    if '名詞' in [morph.pos for morph in chunk.morphs]: \n",
    "        line = chunk.phrase\n",
    "        current_chunk = chunk\n",
    "        while current_chunk.dst != -1:\n",
    "            line = line + ' -> ' + sentence[current_chunk.dst].phrase\n",
    "            current_chunk = sentence[current_chunk.dst]\n",
    "        print(line)"
   ]
  },
  {
   "cell_type": "markdown",
   "id": "253fe68a",
   "metadata": {},
   "source": [
    "# 49.名詞間の係り受けパスの抽出"
   ]
  },
  {
   "cell_type": "code",
   "execution_count": 7,
   "id": "f91645b6",
   "metadata": {},
   "outputs": [
    {
     "data": {
      "text/plain": [
       "[0, 1, 2, 3, 4, 5]"
      ]
     },
     "execution_count": 7,
     "metadata": {},
     "output_type": "execute_result"
    }
   ],
   "source": [
    "sentence = sentences[33]\n",
    "chunk_nouns = [i for i,chunk in enumerate(sentence) if '名詞' in [morph.pos for morph in chunk.morphs]]\n",
    "#パスの先頭\n",
    "chunk_nouns"
   ]
  },
  {
   "cell_type": "code",
   "execution_count": 8,
   "id": "08705e64",
   "metadata": {},
   "outputs": [
    {
     "data": {
      "text/plain": [
       "[(0, 1),\n",
       " (0, 2),\n",
       " (0, 3),\n",
       " (0, 4),\n",
       " (0, 5),\n",
       " (1, 2),\n",
       " (1, 3),\n",
       " (1, 4),\n",
       " (1, 5),\n",
       " (2, 3),\n",
       " (2, 4),\n",
       " (2, 5),\n",
       " (3, 4),\n",
       " (3, 5),\n",
       " (4, 5)]"
      ]
     },
     "execution_count": 8,
     "metadata": {},
     "output_type": "execute_result"
    }
   ],
   "source": [
    "pairs = [(chunk_nouns[i], j) for i in range(len(chunk_nouns)) for j in chunk_nouns[i+1:]]\n",
    "#パスの先頭のペア\n",
    "pairs"
   ]
  },
  {
   "cell_type": "code",
   "execution_count": 47,
   "id": "409a5a0b",
   "metadata": {},
   "outputs": [
    {
     "name": "stdout",
     "output_type": "stream",
     "text": [
      "6 6\n",
      "[0]\n",
      "[1, 2, 3]\n",
      "Xは | Yに関する -> 最初の -> 会議で | 作り出した\n",
      "6 6\n",
      "[0]\n",
      "[2, 3]\n",
      "Xは | Yの -> 会議で | 作り出した\n",
      "6 6\n",
      "[0]\n",
      "[3]\n",
      "Xは | Yで | 作り出した\n",
      "6 6\n",
      "[0]\n",
      "[4, 5]\n",
      "Xは | 「Y」という -> 用語を | 作り出した\n",
      "6 6\n",
      "[0]\n",
      "[5]\n",
      "Xは | Yを | 作り出した\n",
      "2 2\n",
      "[1]\n",
      "[]\n",
      "Xに関する -> Yの\n",
      "3 3\n",
      "[1, 2]\n",
      "[]\n",
      "Xに関する -> 最初の -> Yで\n",
      "6 6\n",
      "[1, 2, 3]\n",
      "[4, 5]\n",
      "Xに関する -> 最初の -> 会議で | 「Y」という -> 用語を | 作り出した\n",
      "6 6\n",
      "[1, 2, 3]\n",
      "[5]\n",
      "Xに関する -> 最初の -> 会議で | Yを | 作り出した\n",
      "3 3\n",
      "[2]\n",
      "[]\n",
      "Xの -> Yで\n",
      "6 6\n",
      "[2, 3]\n",
      "[4, 5]\n",
      "Xの -> 会議で | 「Y」という -> 用語を | 作り出した\n",
      "6 6\n",
      "[2, 3]\n",
      "[5]\n",
      "Xの -> 会議で | Yを | 作り出した\n",
      "6 6\n",
      "[3]\n",
      "[4, 5]\n",
      "Xで | 「Y」という -> 用語を | 作り出した\n",
      "6 6\n",
      "[3]\n",
      "[5]\n",
      "Xで | Yを | 作り出した\n",
      "5 5\n",
      "[4]\n",
      "[]\n",
      "「X」という -> Yを\n"
     ]
    }
   ],
   "source": [
    "#係り受けのパス\n",
    "for i, j in pairs:  \n",
    "    path_i = []\n",
    "    path_j = []\n",
    " #   print(i,j)\n",
    "    while i != j:\n",
    "        if i < j:\n",
    "            path_i.append(i)\n",
    "            i = sentence[i].dst\n",
    "        else:\n",
    "            path_j.append(j)\n",
    "            j = sentence[j].dst\n",
    "    print(i,j)\n",
    "    print(path_i)\n",
    "    print(path_j)\n",
    "    if len(path_j) == 0:  \n",
    "        xs = ''.join([morph.surface if morph.pos != '名詞' else 'X' for morph in sentence[path_i[0]].morphs])\n",
    "        xs = re.sub('X+', 'X', xs)\n",
    "        ys = ''.join([morph.surface if morph.pos != '名詞' else 'Y' for morph in sentence[i].morphs])\n",
    "        ys = re.sub('Y+', 'Y', ys)\n",
    "        xy = [xs] + [''.join(morph.surface for morph in sentence[n].morphs) for n in path_i[1:]] + [ys]\n",
    "        print(' -> '.join(xy))\n",
    "    else:\n",
    "        xs = ''.join([morph.surface if morph.pos != '名詞' else 'X' for morph in sentence[path_i[0]].morphs])\n",
    "        xs = re.sub('X+', 'X', xs)\n",
    "        xs = re.sub('X・X','X', xs)\n",
    "        ys = ''.join([morph.surface if morph.pos != '名詞' else 'Y' for morph in sentence[path_j[0]].morphs])\n",
    "        ks = ''.join([morph.surface for morph in sentence[-1].morphs])\n",
    "        ys = re.sub('Y+', 'Y', ys)\n",
    "        x = [xs] + [''.join(morph.surface for morph in sentence[n].morphs) for n in path_i[1:]]\n",
    "        y = [ys] + [''.join(morph.surface for morph in sentence[n].morphs) for n in path_j[1:]]\n",
    "        print(' | '.join([' -> '.join(x), ' -> '.join(y),ks]))"
   ]
  },
  {
   "cell_type": "code",
   "execution_count": 31,
   "id": "8c82feed",
   "metadata": {},
   "outputs": [
    {
     "name": "stdout",
     "output_type": "stream",
     "text": [
      "ジョン\n",
      "・\n",
      "マッカーシー\n",
      "は\n"
     ]
    }
   ],
   "source": [
    "for i in sentence[0].morphs:\n",
    "    print(i.surface)"
   ]
  },
  {
   "cell_type": "code",
   "execution_count": null,
   "id": "27e31021",
   "metadata": {},
   "outputs": [],
   "source": []
  }
 ],
 "metadata": {
  "kernelspec": {
   "display_name": "Python 3",
   "language": "python",
   "name": "python3"
  },
  "language_info": {
   "codemirror_mode": {
    "name": "ipython",
    "version": 3
   },
   "file_extension": ".py",
   "mimetype": "text/x-python",
   "name": "python",
   "nbconvert_exporter": "python",
   "pygments_lexer": "ipython3",
   "version": "3.9.4"
  }
 },
 "nbformat": 4,
 "nbformat_minor": 5
}
